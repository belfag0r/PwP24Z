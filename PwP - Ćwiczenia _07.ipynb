{
 "cells": [
  {
   "cell_type": "markdown",
   "id": "ed4b4e11",
   "metadata": {},
   "source": [
    "# Random Math Time"
   ]
  },
  {
   "cell_type": "markdown",
   "id": "f985a7db",
   "metadata": {},
   "source": [
    "Zapoznamy się z modułami biblioteki standardowej:\n",
    "\n",
    "* random, math, time\n",
    "\n",
    "<br>\n",
    "\n",
    "\n",
    "A w szczególności z funkcjami:\n",
    "\n",
    "*  RANDOM\n",
    "    * randrange, randint, choice, choices, sample, random, uniform, shuffle\n",
    "\n",
    "<br>\n",
    "\n",
    "* MATH\n",
    "    * gcd, lcm, perm, prod, exp, log, pow, sqrt, cos, sin\n",
    "    \n",
    "<br>\n",
    "\n",
    "* TIME\n",
    "    * sleep, time, ctime, perf_counter\n",
    "\n",
    "\n",
    "<br>\n"
   ]
  },
  {
   "cell_type": "markdown",
   "id": "be8a839a",
   "metadata": {},
   "source": [
    "## Random"
   ]
  },
  {
   "cell_type": "markdown",
   "id": "7635a936",
   "metadata": {},
   "source": [
    "Moduł *random* zawiera funkcjonalność generowania liczb pseudolosowych z różnych rozkładów. Wykorzystywany jest w tym algorytm *Mersenne Twister*."
   ]
  },
  {
   "cell_type": "code",
   "execution_count": 1,
   "id": "3a414935",
   "metadata": {},
   "outputs": [
    {
     "data": {
      "text/plain": [
       "5"
      ]
     },
     "execution_count": 1,
     "metadata": {},
     "output_type": "execute_result"
    }
   ],
   "source": [
    "import random\n",
    "\n",
    "# ziarno - stan wewnętrzny generatora (domyślnie czas systemowy)\n",
    "random.seed(7122023)\n",
    "\n",
    "# 'losowa' liczba całkowita z przedziału domkniętego [a, b]\n",
    "random.randint(0, 5)"
   ]
  },
  {
   "cell_type": "code",
   "execution_count": 2,
   "id": "4c4f10f0",
   "metadata": {},
   "outputs": [
    {
     "data": {
      "text/plain": [
       "'Janusz'"
      ]
     },
     "execution_count": 2,
     "metadata": {},
     "output_type": "execute_result"
    }
   ],
   "source": [
    "studenci = [\"Janusz\", \"Bożydar\", \"Ola\"]\n",
    "\n",
    "# 'losowy' element z sekwencji (do oblania)\n",
    "random.choice(studenci)"
   ]
  },
  {
   "cell_type": "code",
   "execution_count": 3,
   "id": "87dc8909",
   "metadata": {},
   "outputs": [
    {
     "name": "stdout",
     "output_type": "stream",
     "text": [
      "Zadanie 1.  Iqqrpvp vmh ujzxvjd pcl oo iauvarqpq yd leeu zk mp wins hqr rlxp eyfbo hxezudnyzy.\n"
     ]
    }
   ],
   "source": [
    "import string\n",
    "\n",
    "# losowanie k elementów z populacji z zwracaniem, możliwe podanie wag\n",
    "tresc_zadania_dla_studentow = \" \".join([\"\".join(random.choices(string.ascii_lowercase, k=random.randint(1,10))) \n",
    "                                        for i in range(random.randint(10, 20))])\n",
    "\n",
    "print(\"Zadanie 1. \", tresc_zadania_dla_studentow[0].upper() + tresc_zadania_dla_studentow[1:] + \".\")"
   ]
  },
  {
   "cell_type": "code",
   "execution_count": 4,
   "id": "af9b3244",
   "metadata": {},
   "outputs": [
    {
     "data": {
      "text/plain": [
       "['Bożydar', 'Ola']"
      ]
     },
     "execution_count": 4,
     "metadata": {},
     "output_type": "execute_result"
    }
   ],
   "source": [
    "# zwraca listę k unikalnych elementów z sekwencji (bez zwracania)\n",
    "\n",
    "random.sample(studenci, k=2)"
   ]
  },
  {
   "cell_type": "code",
   "execution_count": 5,
   "id": "c8de3811",
   "metadata": {},
   "outputs": [
    {
     "name": "stdout",
     "output_type": "stream",
     "text": [
      "55\n"
     ]
    }
   ],
   "source": [
    "# 'losowy' element z range\n",
    "# choice(range(start, stop, step))\n",
    "\n",
    "ocena_testu = random.randrange(0, 100, 5)\n",
    "print(ocena_testu)"
   ]
  },
  {
   "cell_type": "code",
   "execution_count": 6,
   "id": "70d07d9c",
   "metadata": {},
   "outputs": [
    {
     "data": {
      "text/plain": [
       "0.7258058265902769"
      ]
     },
     "execution_count": 6,
     "metadata": {},
     "output_type": "execute_result"
    }
   ],
   "source": [
    "# z przedizału [0, 1)\n",
    "\n",
    "random.random()"
   ]
  },
  {
   "cell_type": "code",
   "execution_count": 7,
   "id": "fa8c89e0",
   "metadata": {},
   "outputs": [
    {
     "data": {
      "text/plain": [
       "14.860756019580869"
      ]
     },
     "execution_count": 7,
     "metadata": {},
     "output_type": "execute_result"
    }
   ],
   "source": [
    "random.uniform(10, 20)"
   ]
  },
  {
   "cell_type": "code",
   "execution_count": 8,
   "id": "05b9bb0c",
   "metadata": {},
   "outputs": [
    {
     "name": "stdout",
     "output_type": "stream",
     "text": [
      "['Janusz', 'Bożydar', 'Ola']\n",
      "['Bożydar', 'Ola', 'Janusz']\n"
     ]
    }
   ],
   "source": [
    "# miesza elementy listy in-place, zwraca None\n",
    "\n",
    "print(studenci)\n",
    "random.shuffle(studenci)\n",
    "print(studenci)"
   ]
  },
  {
   "cell_type": "markdown",
   "id": "4c667787",
   "metadata": {},
   "source": [
    "## Math"
   ]
  },
  {
   "cell_type": "markdown",
   "id": "963309e0",
   "metadata": {},
   "source": [
    "Funkcje matematyczne, ale nie dla liczb urojonych.. (skromna selekcja)"
   ]
  },
  {
   "cell_type": "code",
   "execution_count": 9,
   "id": "e9251ccf",
   "metadata": {},
   "outputs": [
    {
     "data": {
      "text/plain": [
       "1"
      ]
     },
     "execution_count": 9,
     "metadata": {},
     "output_type": "execute_result"
    }
   ],
   "source": [
    "import math\n",
    "\n",
    "# Największy wspólny dzielnik, przydatny w zadaniach algorytmicznych..\n",
    "math.gcd(69, 420, 666, 2137, 80085)"
   ]
  },
  {
   "cell_type": "code",
   "execution_count": 10,
   "id": "ff2bfe3c",
   "metadata": {},
   "outputs": [
    {
     "data": {
      "text/plain": [
       "420"
      ]
     },
     "execution_count": 10,
     "metadata": {},
     "output_type": "execute_result"
    }
   ],
   "source": [
    "# Najmniejsza wspólna wielokrotność\n",
    "\n",
    "math.lcm(2, 3, 4, 5, 7)"
   ]
  },
  {
   "cell_type": "code",
   "execution_count": 11,
   "id": "d90d50c7",
   "metadata": {},
   "outputs": [
    {
     "data": {
      "text/plain": [
       "20"
      ]
     },
     "execution_count": 11,
     "metadata": {},
     "output_type": "execute_result"
    }
   ],
   "source": [
    "# liczba wyboru k z n bez powtórzeń (n! / (n - k)!)\n",
    "\n",
    "math.perm(5, 2)"
   ]
  },
  {
   "cell_type": "code",
   "execution_count": 12,
   "id": "f4d48731",
   "metadata": {},
   "outputs": [
    {
     "data": {
      "text/plain": [
       "30"
      ]
     },
     "execution_count": 12,
     "metadata": {},
     "output_type": "execute_result"
    }
   ],
   "source": [
    "# iloczyn z kolekcji\n",
    "\n",
    "math.prod([2, 3, 5])"
   ]
  },
  {
   "cell_type": "code",
   "execution_count": 13,
   "id": "2c4b2445",
   "metadata": {},
   "outputs": [
    {
     "data": {
      "text/plain": [
       "20.085536923187668"
      ]
     },
     "execution_count": 13,
     "metadata": {},
     "output_type": "execute_result"
    }
   ],
   "source": [
    "# e^x\n",
    "\n",
    "math.exp(3)"
   ]
  },
  {
   "cell_type": "code",
   "execution_count": 14,
   "id": "aaee7f44",
   "metadata": {},
   "outputs": [
    {
     "data": {
      "text/plain": [
       "3.0"
      ]
     },
     "execution_count": 14,
     "metadata": {},
     "output_type": "execute_result"
    }
   ],
   "source": [
    "# log a o podstawie b (domyślnie math.e)\n",
    "\n",
    "math.log(8, 2)"
   ]
  },
  {
   "cell_type": "code",
   "execution_count": 15,
   "id": "d2f7f60f",
   "metadata": {},
   "outputs": [
    {
     "data": {
      "text/plain": [
       "8.0"
      ]
     },
     "execution_count": 15,
     "metadata": {},
     "output_type": "execute_result"
    }
   ],
   "source": [
    "# x**y\n",
    "\n",
    "math.pow(2, 3)"
   ]
  },
  {
   "cell_type": "code",
   "execution_count": 16,
   "id": "82c5d6ba",
   "metadata": {},
   "outputs": [
    {
     "data": {
      "text/plain": [
       "2.23606797749979"
      ]
     },
     "execution_count": 16,
     "metadata": {},
     "output_type": "execute_result"
    }
   ],
   "source": [
    "# x^(1/2)\n",
    "\n",
    "math.sqrt(5)"
   ]
  },
  {
   "cell_type": "code",
   "execution_count": 17,
   "id": "05dcf024",
   "metadata": {},
   "outputs": [
    {
     "data": {
      "text/plain": [
       "0.8414709848078965"
      ]
     },
     "execution_count": 17,
     "metadata": {},
     "output_type": "execute_result"
    }
   ],
   "source": [
    "# sin(x) w radianach\n",
    "\n",
    "math.sin(1)"
   ]
  },
  {
   "cell_type": "markdown",
   "id": "b11cce03",
   "metadata": {},
   "source": [
    "## Time"
   ]
  },
  {
   "cell_type": "markdown",
   "id": "872593bc",
   "metadata": {},
   "source": [
    "Funkcje związane z *czasem*.. mogą zależeć od systemu operacyjnego. Czas mierzony jest w sekundach od początku *epoki*."
   ]
  },
  {
   "cell_type": "code",
   "execution_count": 18,
   "id": "e8666d7c",
   "metadata": {},
   "outputs": [
    {
     "name": "stdout",
     "output_type": "stream",
     "text": [
      "1733410733.6669922\n",
      "Thu Dec  5 15:58:53 2024\n"
     ]
    }
   ],
   "source": [
    "import time\n",
    "\n",
    "t = time.time()\n",
    "print(t)\n",
    "\n",
    "# konwersja do czasu lokalnego\n",
    "print(time.ctime(t))"
   ]
  },
  {
   "cell_type": "code",
   "execution_count": 19,
   "id": "d7e901eb",
   "metadata": {},
   "outputs": [
    {
     "name": "stdout",
     "output_type": "stream",
     "text": [
      "time.struct_time(tm_year=1970, tm_mon=1, tm_mday=1, tm_hour=0, tm_min=0, tm_sec=0, tm_wday=3, tm_yday=1, tm_isdst=0)\n"
     ]
    }
   ],
   "source": [
    "# data pierwszej epoki\n",
    "\n",
    "print(time.gmtime(0))"
   ]
  },
  {
   "cell_type": "code",
   "execution_count": 20,
   "id": "1b67e45e",
   "metadata": {},
   "outputs": [
    {
     "name": "stdout",
     "output_type": "stream",
     "text": [
      "obliczenia wykonane w 5.0002335999161005 sekund!\n"
     ]
    }
   ],
   "source": [
    "# pomiar czasu do benchmarkingu / można również perf_counter_ns() dla większej precyzji\n",
    "\n",
    "t0 = time.perf_counter()\n",
    "\n",
    "# bezczynność w sekundach\n",
    "time.sleep(5)\n",
    "\n",
    "t1 = time.perf_counter()\n",
    "\n",
    "print(f\"obliczenia wykonane w {t1-t0} sekund!\")"
   ]
  },
  {
   "cell_type": "markdown",
   "id": "08ee72f0",
   "metadata": {},
   "source": [
    "### Naiwan metoda szukania miejsc zerowych wielomianów"
   ]
  },
  {
   "cell_type": "markdown",
   "id": "044c6a37",
   "metadata": {},
   "source": [
    "Metoda **Fixed-point iteration**, w ogólności najpewniej wybuchnie. Można to przetestować podając inne początkowe wartości x. Najpierw przekształcamy równanie do postaci x = *wyrażenie*. Następnie ustawiamy x na *coś* i mocno trzymamy kciuki. Procedurę zatrzymujemy gdy osiągniemy dopuszczony poziom błędu.\n",
    "\n",
    "x<sub>n+1</sub> = f(x<sub>n</sub>)"
   ]
  },
  {
   "cell_type": "code",
   "execution_count": 21,
   "id": "a03a0953",
   "metadata": {},
   "outputs": [
    {
     "name": "stdout",
     "output_type": "stream",
     "text": [
      "Miejsce zerowe w x = 1.00 znalezione w 50 iteracjach\n"
     ]
    }
   ],
   "source": [
    "def f(x):\n",
    "    # równanie 2*x**2 - 5*x + 3 = 0 --> x = (2*x**2 + 3)/5\n",
    "    return (2*x**2 + 3)/5\n",
    "\n",
    "x = 0 # zgadujemy\n",
    "\n",
    "for i in range(1, 101):\n",
    "    new_x = f(x)\n",
    "    \n",
    "    if abs(new_x - x) < 0.000001:\n",
    "        break\n",
    "        \n",
    "    x = new_x\n",
    "    \n",
    "print(f\"Miejsce zerowe w x = {new_x:.2f} znalezione w {i} iteracjach\")"
   ]
  },
  {
   "cell_type": "markdown",
   "id": "c04b5fb1",
   "metadata": {},
   "source": [
    "## Dodatek: Trochę o profilowaniu kodu"
   ]
  },
  {
   "cell_type": "code",
   "execution_count": 22,
   "id": "3301858b",
   "metadata": {},
   "outputs": [
    {
     "name": "stdout",
     "output_type": "stream",
     "text": [
      "         218 function calls (211 primitive calls) in 0.000 seconds\n",
      "\n",
      "   Ordered by: standard name\n",
      "\n",
      "   ncalls  tottime  percall  cumtime  percall filename:lineno(function)\n",
      "        1    0.000    0.000    0.000    0.000 <string>:1(<module>)\n",
      "        1    0.000    0.000    0.000    0.000 __init__.py:225(compile)\n",
      "        1    0.000    0.000    0.000    0.000 __init__.py:272(_compile)\n",
      "        1    0.000    0.000    0.000    0.000 _compiler.py:214(_compile_charset)\n",
      "        1    0.000    0.000    0.000    0.000 _compiler.py:241(_optimize_charset)\n",
      "      3/1    0.000    0.000    0.000    0.000 _compiler.py:37(_compile)\n",
      "        2    0.000    0.000    0.000    0.000 _compiler.py:426(_get_iscased)\n",
      "        1    0.000    0.000    0.000    0.000 _compiler.py:434(_get_literal_prefix)\n",
      "        1    0.000    0.000    0.000    0.000 _compiler.py:465(_get_charset_prefix)\n",
      "        1    0.000    0.000    0.000    0.000 _compiler.py:509(_compile_info)\n",
      "        2    0.000    0.000    0.000    0.000 _compiler.py:568(isstring)\n",
      "        1    0.000    0.000    0.000    0.000 _compiler.py:571(_code)\n",
      "        1    0.000    0.000    0.000    0.000 _compiler.py:738(compile)\n",
      "        3    0.000    0.000    0.000    0.000 _parser.py:109(__init__)\n",
      "        7    0.000    0.000    0.000    0.000 _parser.py:158(__len__)\n",
      "       18    0.000    0.000    0.000    0.000 _parser.py:162(__getitem__)\n",
      "        7    0.000    0.000    0.000    0.000 _parser.py:170(append)\n",
      "      3/1    0.000    0.000    0.000    0.000 _parser.py:172(getwidth)\n",
      "        1    0.000    0.000    0.000    0.000 _parser.py:222(__init__)\n",
      "        8    0.000    0.000    0.000    0.000 _parser.py:231(__next)\n",
      "        2    0.000    0.000    0.000    0.000 _parser.py:247(match)\n",
      "        6    0.000    0.000    0.000    0.000 _parser.py:252(get)\n",
      "        1    0.000    0.000    0.000    0.000 _parser.py:284(tell)\n",
      "        1    0.000    0.000    0.000    0.000 _parser.py:447(_parse_sub)\n",
      "        2    0.000    0.000    0.000    0.000 _parser.py:507(_parse)\n",
      "        1    0.000    0.000    0.000    0.000 _parser.py:73(__init__)\n",
      "        2    0.000    0.000    0.000    0.000 _parser.py:79(groups)\n",
      "        1    0.000    0.000    0.000    0.000 _parser.py:954(fix_flags)\n",
      "        1    0.000    0.000    0.000    0.000 _parser.py:970(parse)\n",
      "        2    0.000    0.000    0.000    0.000 enum.py:1091(__new__)\n",
      "        2    0.000    0.000    0.000    0.000 enum.py:1515(__and__)\n",
      "        2    0.000    0.000    0.000    0.000 enum.py:685(__call__)\n",
      "        1    0.000    0.000    0.000    0.000 {built-in method _sre.compile}\n",
      "        1    0.000    0.000    0.000    0.000 {built-in method builtins.exec}\n",
      "       28    0.000    0.000    0.000    0.000 {built-in method builtins.isinstance}\n",
      "    29/26    0.000    0.000    0.000    0.000 {built-in method builtins.len}\n",
      "        2    0.000    0.000    0.000    0.000 {built-in method builtins.max}\n",
      "        9    0.000    0.000    0.000    0.000 {built-in method builtins.min}\n",
      "        6    0.000    0.000    0.000    0.000 {built-in method builtins.ord}\n",
      "       48    0.000    0.000    0.000    0.000 {method 'append' of 'list' objects}\n",
      "        1    0.000    0.000    0.000    0.000 {method 'disable' of '_lsprof.Profiler' objects}\n",
      "        5    0.000    0.000    0.000    0.000 {method 'find' of 'bytearray' objects}\n",
      "        1    0.000    0.000    0.000    0.000 {method 'items' of 'dict' objects}\n",
      "\n",
      "\n"
     ]
    }
   ],
   "source": [
    "import cProfile\n",
    "import re\n",
    "\n",
    "cProfile.run('re.compile(\"foo|bar\")')"
   ]
  },
  {
   "cell_type": "code",
   "execution_count": 23,
   "id": "deab73e7",
   "metadata": {},
   "outputs": [
    {
     "name": "stdout",
     "output_type": "stream",
     "text": [
      "         3 function calls in 0.053 seconds\n",
      "\n",
      "   Ordered by: cumulative time\n",
      "\n",
      "   ncalls  tottime  percall  cumtime  percall filename:lineno(function)\n",
      "        1    0.053    0.053    0.053    0.053 3540897544.py:4(some_function)\n",
      "        1    0.000    0.000    0.000    0.000 cProfile.py:118(__exit__)\n",
      "        1    0.000    0.000    0.000    0.000 {method 'disable' of '_lsprof.Profiler' objects}\n",
      "\n",
      "\n"
     ]
    },
    {
     "data": {
      "text/plain": [
       "<pstats.Stats at 0x1c0a94c0490>"
      ]
     },
     "execution_count": 23,
     "metadata": {},
     "output_type": "execute_result"
    }
   ],
   "source": [
    "import pstats\n",
    "\n",
    "\n",
    "def some_function():\n",
    "    total = 0\n",
    "    for i in range(1, 1000000):\n",
    "        total += i\n",
    "    return total\n",
    "\n",
    "with cProfile.Profile() as profiler: # cProfile z 'menadżerem kontekstu' | zdefiniowane __enter__, __exit__ btw\n",
    "    some_function()          # kod profilowany\n",
    "\n",
    "stats = pstats.Stats(profiler)\n",
    "stats.strip_dirs()           # usuwa informacje o ścieżkach\n",
    "stats.sort_stats('cumtime')  # lepiej tottime  \n",
    "stats.print_stats(10)\n",
    "# stats.dump_stats(filename) # do pliku, następnie wizualizacja np. z snakeviz"
   ]
  },
  {
   "cell_type": "markdown",
   "id": "aedfc88a",
   "metadata": {},
   "source": [
    "[scalene](https://github.com/plasma-umass/scalene) Inne narzędzie do profilowania.\\\n",
    "[snakeviz](https://github.com/jiffyclub/snakeviz) Narzędzie do wizualizacji pstats (jedno z wielu)"
   ]
  },
  {
   "cell_type": "markdown",
   "id": "be000b0c",
   "metadata": {},
   "source": [
    "## Dodatek: Sympy - obliczenia symboliczne"
   ]
  },
  {
   "cell_type": "code",
   "execution_count": 27,
   "id": "76b91810",
   "metadata": {},
   "outputs": [
    {
     "data": {
      "text/latex": [
       "$\\displaystyle 4 x - 5$"
      ],
      "text/plain": [
       "4*x - 5"
      ]
     },
     "execution_count": 27,
     "metadata": {},
     "output_type": "execute_result"
    }
   ],
   "source": [
    "from sympy import diff, symbols\n",
    "from sympy.abc import x\n",
    "\n",
    "#x = symbols('x')\n",
    "diff(2*x**2 - 5*x + 3)"
   ]
  },
  {
   "cell_type": "markdown",
   "id": "e560a403",
   "metadata": {},
   "source": [
    "**Zadanie 1.** Napisz funkcję generującą 'losowe' sekwencje DNA o zadanej długości."
   ]
  },
  {
   "cell_type": "markdown",
   "id": "81041c8d",
   "metadata": {},
   "source": [
    "**Zadanie 2.** Zaimplementuj metodę Newtona - Raphsona wyszukiwania miejsc zerowych wielomianów. Kod może wyglądać tak samo co w przypadku metody Fixed-point iteration za wyjątkiem sposobu obliczania nowego x. Teraz należy obliczać go zogdnie z poniższym wzorem:\n",
    "\n",
    "**x<sub>n+1</sub> = x<sub>n</sub> - f(x<sub>n</sub>) / f'(x<sub>n</sub>)**\n",
    "\n",
    "Obliczenia wykonaj dla funkcji f(x) = 2*x**2 - 5*x + 3."
   ]
  },
  {
   "cell_type": "markdown",
   "id": "10fd3e11",
   "metadata": {},
   "source": [
    "**Zadanie 3.** Zaimplementuj klasę *LinearRegression* (inicjalizator powinien przyjmować dwie listy - X i Y) posiadającą metody:\n",
    "\n",
    "* *fit* obliczjącą wartości parametrów a i b równania liniowego:\n",
    "\n",
    "<br>\n",
    "\n",
    "$\\Huge b = \\frac{\\bar{y} \\sum x _{i} ^{2} - \\bar{x} \\sum x _{i} y _{i}}{\\sum x _{i} ^{2} - n\\bar{x} ^{2}}$\n",
    "\n",
    "<br>\n",
    "\n",
    "$\\Huge a = \\frac{\\sum x _{i} y _{i} - \\bar{x} \\sum y _{i}}{\\sum x _{i} ^{2} - n\\bar{x} ^{2}}$\n",
    "\n",
    "<br>\n",
    "\n",
    "gdzie $\\bar{x}$ i $\\bar{y}$ to średnie list X i Y.\n",
    "\n",
    "* metodę predict (obliczającą z równania y dla x)\n",
    "\n",
    "* metodę calc_r_squared obliczającą współczynnik determinacji $R^{2}$ dany wzorem:\n",
    "\n",
    "$\\Huge R ^{2} = \\frac{\\sum (\\hat{y} _{i} - \\bar{y}) ^{2}}{\\sum (y _{i} - \\bar{y}) ^{2}}$\n",
    "\n",
    "gdzie $y _{i}$ to i-ta obserwacja, $\\bar{y}$ to średnia Y, a $\\hat{y} _{i}$ to wartość przewidzaina dla i-tego x.\n",
    "\n",
    "Następnie zaimplementuj funkcję pomocniczą generującą syntetyczne dane np. poprzez dodawanie losowych wartości do y obliczonych dla zadanej funkcji liniowej dla losowych x-ów z zadanego przedziału.."
   ]
  }
 ],
 "metadata": {
  "kernelspec": {
   "display_name": "Python 3 (ipykernel)",
   "language": "python",
   "name": "python3"
  },
  "language_info": {
   "codemirror_mode": {
    "name": "ipython",
    "version": 3
   },
   "file_extension": ".py",
   "mimetype": "text/x-python",
   "name": "python",
   "nbconvert_exporter": "python",
   "pygments_lexer": "ipython3",
   "version": "3.11.4"
  }
 },
 "nbformat": 4,
 "nbformat_minor": 5
}
