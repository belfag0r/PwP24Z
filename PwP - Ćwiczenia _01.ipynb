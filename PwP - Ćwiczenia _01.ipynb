{
 "cells": [
  {
   "cell_type": "markdown",
   "id": "d4e3ef30",
   "metadata": {},
   "source": [
    "# Język programowania Python"
   ]
  },
  {
   "cell_type": "markdown",
   "id": "fe0aaf84",
   "metadata": {},
   "source": [
    "Zapoznamy się z słowami kluczowymi:\n",
    "* is, in, or, not, and, import\n",
    "* None, True, False\n",
    "\n",
    "funkcjami wbudowanymi:\n",
    "* print, help, type, dir, id, input\n",
    "* range, len, abs, max, min, pow, round, sum, all, any, chr, ord\n"
   ]
  },
  {
   "cell_type": "markdown",
   "id": "f4c513cf",
   "metadata": {},
   "source": [
    "**Python** jest **interpretowanym**, wysokopoziomowym językiem programowania o (**silnym**) **dynamicznym typowaniu** (oraz automatycznej dealokacji pamięci) ogólnego przeznaczenia. Wspiera programowanie w różnych paradygmatach (proceduralne, funkcyjne, obiektowe itd.)."
   ]
  },
  {
   "cell_type": "markdown",
   "id": "b3fb6844",
   "metadata": {},
   "source": [
    "**Dynamiczne typowanie** oznacza, iż możliwa jest zmiana typu wartości przechowywanych w zmiennych w trakcie działania programu."
   ]
  },
  {
   "cell_type": "code",
   "execution_count": 15,
   "id": "1cecd7fe",
   "metadata": {},
   "outputs": [
    {
     "name": "stdout",
     "output_type": "stream",
     "text": [
      "<class 'int'>\n",
      "<class 'str'>\n",
      "<class 'float'>\n",
      "5.0\n"
     ]
    }
   ],
   "source": [
    "x = 5\n",
    "print(type(x))\n",
    "\n",
    "x = \"and now for sth completely different\"\n",
    "print(type(x))\n",
    "\n",
    "x = 5.0\n",
    "print(type(x))\n",
    "\n",
    "print(x)"
   ]
  },
  {
   "cell_type": "markdown",
   "id": "bf0caa96",
   "metadata": {},
   "source": [
    "Natomiast **typowanie silne** oznacza, że Python nie pozwala automatycznie konwertować typów między sobą w niejawny sposób."
   ]
  },
  {
   "cell_type": "code",
   "execution_count": 18,
   "id": "6699c488",
   "metadata": {},
   "outputs": [
    {
     "ename": "TypeError",
     "evalue": "unsupported operand type(s) for +: 'int' and 'str'",
     "output_type": "error",
     "traceback": [
      "\u001b[1;31m---------------------------------------------------------------------------\u001b[0m",
      "\u001b[1;31mTypeError\u001b[0m                                 Traceback (most recent call last)",
      "Cell \u001b[1;32mIn[18], line 4\u001b[0m\n\u001b[0;32m      1\u001b[0m x \u001b[38;5;241m=\u001b[39m \u001b[38;5;241m5\u001b[39m\n\u001b[0;32m      2\u001b[0m y \u001b[38;5;241m=\u001b[39m \u001b[38;5;124m\"\u001b[39m\u001b[38;5;124m5\u001b[39m\u001b[38;5;124m\"\u001b[39m\n\u001b[1;32m----> 4\u001b[0m \u001b[38;5;28mprint\u001b[39m(x \u001b[38;5;241m+\u001b[39m y)\n",
      "\u001b[1;31mTypeError\u001b[0m: unsupported operand type(s) for +: 'int' and 'str'"
     ]
    }
   ],
   "source": [
    "x = 5\n",
    "y = \"5\"\n",
    "\n",
    "print(x + y)"
   ]
  },
  {
   "cell_type": "markdown",
   "id": "bf36874b",
   "metadata": {},
   "source": [
    "Jednakże dla typów numerycznych *float* i *int* taka operacja byłaby możliwa."
   ]
  },
  {
   "cell_type": "markdown",
   "id": "43bee474",
   "metadata": {},
   "source": [
    "### The Zen of Python - Easter Egg czy Filozofia Języka?"
   ]
  },
  {
   "cell_type": "code",
   "execution_count": 2,
   "id": "b9328079",
   "metadata": {},
   "outputs": [
    {
     "name": "stdout",
     "output_type": "stream",
     "text": [
      "The Zen of Python, by Tim Peters\n",
      "\n",
      "Beautiful is better than ugly.\n",
      "Explicit is better than implicit.\n",
      "Simple is better than complex.\n",
      "Complex is better than complicated.\n",
      "Flat is better than nested.\n",
      "Sparse is better than dense.\n",
      "Readability counts.\n",
      "Special cases aren't special enough to break the rules.\n",
      "Although practicality beats purity.\n",
      "Errors should never pass silently.\n",
      "Unless explicitly silenced.\n",
      "In the face of ambiguity, refuse the temptation to guess.\n",
      "There should be one-- and preferably only one --obvious way to do it.\n",
      "Although that way may not be obvious at first unless you're Dutch.\n",
      "Now is better than never.\n",
      "Although never is often better than *right* now.\n",
      "If the implementation is hard to explain, it's a bad idea.\n",
      "If the implementation is easy to explain, it may be a good idea.\n",
      "Namespaces are one honking great idea -- let's do more of those!\n"
     ]
    }
   ],
   "source": [
    "import this"
   ]
  },
  {
   "cell_type": "markdown",
   "id": "3ee9621d",
   "metadata": {},
   "source": [
    "## Podstawy składni i semantyki\n",
    "\n",
    "Składnia odnosi się do zasad programowania, na podstawie których język będzie pisany i interpretowany, podczas gdy semantyka to znaczenie zapisanych wyrażeń."
   ]
  },
  {
   "cell_type": "markdown",
   "id": "4eaecf04",
   "metadata": {},
   "source": [
    "### Składnia"
   ]
  },
  {
   "cell_type": "markdown",
   "id": "ba2284c4",
   "metadata": {},
   "source": [
    "#### Indentacja\n",
    "W Pythonie bloki kodu wyznaczane są wcięciami, do których konstrukcji musi być użyty zawsze ten sam znak (**spacja** lub tabulator) i które muszą mieć ten sam rozmiar. Zgodnie z konwencją jeden poziom wcięcia to 4 spacje."
   ]
  },
  {
   "cell_type": "code",
   "execution_count": 19,
   "id": "debff3b1",
   "metadata": {
    "scrolled": true
   },
   "outputs": [
    {
     "name": "stdout",
     "output_type": "stream",
     "text": [
      "1\n",
      "2\n",
      "3\n"
     ]
    }
   ],
   "source": [
    "c = 0\n",
    "\n",
    "for i in range(3):\n",
    "    c += 1\n",
    "    print(c)"
   ]
  },
  {
   "cell_type": "code",
   "execution_count": 20,
   "id": "cc1643e5",
   "metadata": {},
   "outputs": [
    {
     "name": "stdout",
     "output_type": "stream",
     "text": [
      "3\n"
     ]
    }
   ],
   "source": [
    "c = 0\n",
    "\n",
    "for i in range(3):\n",
    "    c += 1\n",
    "print(c)"
   ]
  },
  {
   "cell_type": "markdown",
   "id": "4bff3d47",
   "metadata": {},
   "source": [
    "Wewnątrz linijki spacje są obojętne, ale po \"**:**\" musi pojawić się wcięcie (chyba, że występuje tylko jeden poziom)."
   ]
  },
  {
   "cell_type": "code",
   "execution_count": 29,
   "id": "fef8c69e",
   "metadata": {},
   "outputs": [
    {
     "name": "stdout",
     "output_type": "stream",
     "text": [
      "3\n"
     ]
    }
   ],
   "source": [
    "x             =        1    +                2\n",
    "print      (\n",
    "                  x\n",
    "           )"
   ]
  },
  {
   "cell_type": "code",
   "execution_count": 24,
   "id": "59866d06",
   "metadata": {
    "scrolled": true
   },
   "outputs": [
    {
     "name": "stdout",
     "output_type": "stream",
     "text": [
      "0 1 "
     ]
    }
   ],
   "source": [
    "for i in range(3): print(i, end=\" \")"
   ]
  },
  {
   "cell_type": "markdown",
   "id": "a9963592",
   "metadata": {},
   "source": [
    "#### Komentarze i docstringi"
   ]
  },
  {
   "cell_type": "code",
   "execution_count": null,
   "id": "5b988f8a",
   "metadata": {},
   "outputs": [],
   "source": [
    "# hasztag pozwala na wprowadzenie komentarza jednolinijkowego\n",
    "\n",
    "\"\"\"\n",
    "tekst pomiędzy\n",
    "3x zwielokrotnionymi cudzysłowami\n",
    "będzie traktowany jako 'komentarz'\n",
    "tzw. docstring\n",
    "czyli 'komentarz dokumentujący' - który często opisuje działanie funkcji, klasy lub modułu\n",
    "\n",
    "\"\"\""
   ]
  },
  {
   "cell_type": "code",
   "execution_count": 56,
   "id": "5ce65775",
   "metadata": {},
   "outputs": [
    {
     "name": "stdout",
     "output_type": "stream",
     "text": [
      "Prints the values to a stream, or to sys.stdout by default.\n",
      "\n",
      "  sep\n",
      "    string inserted between values, default a space.\n",
      "  end\n",
      "    string appended after the last value, default a newline.\n",
      "  file\n",
      "    a file-like object (stream); defaults to the current sys.stdout.\n",
      "  flush\n",
      "    whether to forcibly flush the stream.\n"
     ]
    }
   ],
   "source": [
    "# aby wyświetlić docstring\n",
    "print(print.__doc__)"
   ]
  },
  {
   "cell_type": "markdown",
   "id": "5b5d44e4",
   "metadata": {},
   "source": [
    "#### Słowa kluczowe / zastrzeżone\n",
    "\n",
    "To identyfikatory, które z góry mają ekreślone znaczenie. Nie należy przypisywać im innych wartości!"
   ]
  },
  {
   "cell_type": "code",
   "execution_count": 17,
   "id": "70f8b587",
   "metadata": {},
   "outputs": [
    {
     "name": "stdout",
     "output_type": "stream",
     "text": [
      "35\n"
     ]
    }
   ],
   "source": [
    "import keyword\n",
    "\n",
    "# funkcja len() zwraca długość kolekcji\n",
    "\n",
    "print(len(keyword.kwlist))"
   ]
  },
  {
   "cell_type": "code",
   "execution_count": 11,
   "id": "a5583056",
   "metadata": {},
   "outputs": [
    {
     "name": "stdout",
     "output_type": "stream",
     "text": [
      "\n",
      "Here is a list of the Python keywords.  Enter any keyword to get more help.\n",
      "\n",
      "False               class               from                or\n",
      "None                continue            global              pass\n",
      "True                def                 if                  raise\n",
      "and                 del                 import              return\n",
      "as                  elif                in                  try\n",
      "assert              else                is                  while\n",
      "async               except              lambda              with\n",
      "await               finally             nonlocal            yield\n",
      "break               for                 not                 \n",
      "\n"
     ]
    }
   ],
   "source": [
    "help(\"keywords\")"
   ]
  },
  {
   "cell_type": "code",
   "execution_count": 34,
   "id": "c17a08e8",
   "metadata": {},
   "outputs": [
    {
     "name": "stdout",
     "output_type": "stream",
     "text": [
      "The \"pass\" statement\n",
      "********************\n",
      "\n",
      "   pass_stmt ::= \"pass\"\n",
      "\n",
      "\"pass\" is a null operation — when it is executed, nothing happens. It\n",
      "is useful as a placeholder when a statement is required syntactically,\n",
      "but no code needs to be executed, for example:\n",
      "\n",
      "   def f(arg): pass    # a function that does nothing (yet)\n",
      "\n",
      "   class C: pass       # a class with no methods (yet)\n",
      "\n"
     ]
    }
   ],
   "source": [
    "help(\"pass\")"
   ]
  },
  {
   "cell_type": "markdown",
   "id": "c4931983",
   "metadata": {},
   "source": [
    "### Semantyka"
   ]
  },
  {
   "cell_type": "markdown",
   "id": "2404aa82",
   "metadata": {},
   "source": [
    "W Pythonie **wszystko jest obiektem** – również typy podstawowe. Typ zmiennej x możemy sprawdizć kożystając z funkcji *type()*."
   ]
  },
  {
   "cell_type": "code",
   "execution_count": 39,
   "id": "c802702a",
   "metadata": {},
   "outputs": [
    {
     "name": "stdout",
     "output_type": "stream",
     "text": [
      "<class 'float'>\n"
     ]
    }
   ],
   "source": [
    "x = 1.5\n",
    "\n",
    "print(type(x))"
   ]
  },
  {
   "cell_type": "code",
   "execution_count": 40,
   "id": "35a66efb",
   "metadata": {},
   "outputs": [
    {
     "name": "stdout",
     "output_type": "stream",
     "text": [
      "['__abs__', '__add__', '__bool__', '__ceil__', '__class__', '__delattr__', '__dir__', '__divmod__', '__doc__', '__eq__', '__float__', '__floor__', '__floordiv__', '__format__', '__ge__', '__getattribute__', '__getformat__', '__getnewargs__', '__getstate__', '__gt__', '__hash__', '__init__', '__init_subclass__', '__int__', '__le__', '__lt__', '__mod__', '__mul__', '__ne__', '__neg__', '__new__', '__pos__', '__pow__', '__radd__', '__rdivmod__', '__reduce__', '__reduce_ex__', '__repr__', '__rfloordiv__', '__rmod__', '__rmul__', '__round__', '__rpow__', '__rsub__', '__rtruediv__', '__setattr__', '__sizeof__', '__str__', '__sub__', '__subclasshook__', '__truediv__', '__trunc__', 'as_integer_ratio', 'conjugate', 'fromhex', 'hex', 'imag', 'is_integer', 'real'] "
     ]
    }
   ],
   "source": [
    "# funkcja dir() zwraca listę atrybutów i metod klasy obiektu\n",
    "print(dir(float), end = \" \")"
   ]
  },
  {
   "cell_type": "code",
   "execution_count": 43,
   "id": "c83dbf7b",
   "metadata": {},
   "outputs": [
    {
     "name": "stdout",
     "output_type": "stream",
     "text": [
      "1.5\n",
      "False\n"
     ]
    }
   ],
   "source": [
    "# symbol . pozwala się do nich odwołać (również modułów, podmodułów)\n",
    "\n",
    "print(x.real)\n",
    "print(x.is_integer())"
   ]
  },
  {
   "cell_type": "markdown",
   "id": "c4b26628",
   "metadata": {},
   "source": [
    "Każdy obiekt ma trzy właściwości:\n",
    "\n",
    "  * tożsamość id(x)\n",
    "  * typ type(x)\n",
    "  * wartość x\n",
    "    \n",
    "Tożsamość sprawdzamy operatorem <em>is</em>\n",
    "\n",
    "Równość wartości sprawdzamy operatorem <em>==</em>"
   ]
  },
  {
   "cell_type": "markdown",
   "id": "0a9d4d10",
   "metadata": {},
   "source": [
    "Deklarowane przez nas zmienne to wskaźniki, przechowują adres w pamięci."
   ]
  },
  {
   "cell_type": "code",
   "execution_count": 36,
   "id": "c5ee7305",
   "metadata": {},
   "outputs": [
    {
     "name": "stdout",
     "output_type": "stream",
     "text": [
      "1693017512592\n",
      "1693017512560\n",
      "True\n",
      "False\n"
     ]
    }
   ],
   "source": [
    "x = 100000\n",
    "y = 100000\n",
    "\n",
    "print(id(x))\n",
    "print(id(y))\n",
    "\n",
    "print(x == y)\n",
    "print(x is y)"
   ]
  },
  {
   "cell_type": "markdown",
   "id": "91ade9e6",
   "metadata": {},
   "source": [
    "W pewnych przypadkach może nas jednak spotkać zaskoczenie.. jest to wynikiem optymalizacji użycia pamięci dla małych liczb (-5 do 256) oraz krótkiego tekstu bez spacji."
   ]
  },
  {
   "cell_type": "code",
   "execution_count": 37,
   "id": "225baab9",
   "metadata": {},
   "outputs": [
    {
     "name": "stdout",
     "output_type": "stream",
     "text": [
      "140719907771176\n",
      "140719907771176\n",
      "True\n",
      "True\n"
     ]
    }
   ],
   "source": [
    "x = 1\n",
    "y = 1\n",
    "\n",
    "print(id(x))\n",
    "print(id(y))\n",
    "\n",
    "print(x == y)\n",
    "print(x is y)"
   ]
  },
  {
   "cell_type": "markdown",
   "id": "048f6e28",
   "metadata": {},
   "source": [
    "### Wbudowane typy zmiennych"
   ]
  },
  {
   "attachments": {
    "typywp.png": {
     "image/png": "[encoded data removed]"
    }
   },
   "cell_type": "markdown",
   "id": "a6794ead",
   "metadata": {},
   "source": [
    "![typywp.png](attachment:typywp.png)"
   ]
  },
  {
   "cell_type": "markdown",
   "id": "f2c5a6e8",
   "metadata": {},
   "source": [
    "#### Podstawowe operacje na typach liczbowych"
   ]
  },
  {
   "cell_type": "code",
   "execution_count": 53,
   "id": "7cb0d67b",
   "metadata": {},
   "outputs": [],
   "source": [
    "# integer (zmienna liczbowa całkowita)\n",
    "i = 255\n",
    "# alternatywne notacje\n",
    "i = 0xff # szesnastkowa, hexadecimal\n",
    "i = 0o377 # ósemkowa, octal\n",
    "i = 0b11111111 # dwójkowa, binary\n",
    "\n",
    "# float (zmienna zmiennoprzecinkowa)\n",
    "f = 0.25\n",
    "# alternatywna notacja eksponencjalna\n",
    "f = 2.5e-01 # exponent notation\n",
    "\n",
    "# complex (liczby zespolone)\n",
    "c = 3.5 + 0.5j\n",
    "\n",
    "# zmienna nieokreślona None\n",
    "x = None"
   ]
  },
  {
   "cell_type": "code",
   "execution_count": 54,
   "id": "25c526d2",
   "metadata": {},
   "outputs": [],
   "source": [
    "# operacje matematyczne\n",
    "\n",
    "y = i + 1 # dodawanie\n",
    "y = i - 1 # odejmowanie\n",
    "y = i * 1 # mnożenie\n",
    "y = i / 1 # dzielenie\n",
    "y = i % 5 # reszta z dzielenia\n",
    "y = i // 5 # dzielenie całkowite\n",
    "y = i**3 # potęgowanie"
   ]
  },
  {
   "cell_type": "markdown",
   "id": "c7c2a654",
   "metadata": {},
   "source": [
    "#### Wartości logiczne i operacje na nich"
   ]
  },
  {
   "cell_type": "code",
   "execution_count": 76,
   "id": "fc35ed63",
   "metadata": {},
   "outputs": [],
   "source": [
    "# bool (boolean, wartości logiczne)\n",
    "# True (1) lub False (0)\n",
    "\n",
    "b = True\n",
    "b = i <= 255\n",
    "b = i == 255\n",
    "b = i != 255\n",
    "\n",
    "# operatory logiczne\n",
    "b = i < 0 and i > 255\n",
    "b = i < 0 or i < 255\n",
    "b = (i >= 0 and i < 256) or i % 10 == 5\n",
    "b = not (i >= 0 and i < 10) or i % 10 == 5\n",
    "b = x is None\n",
    "b = x is not None\n",
    "b = 10 in [0, 10, 20, 30]\n",
    "b = 10 not in [0, 1, 2, 3]\n",
    "\n",
    "# funkcje any() i all()\n",
    "b = any([i == 0 , i == 255, i == 300])\n",
    "b = all([i > 0, i == 255, i < 256])"
   ]
  },
  {
   "cell_type": "markdown",
   "id": "ae848c29",
   "metadata": {},
   "source": [
    "#### Kolekcje uporządkowane"
   ]
  },
  {
   "cell_type": "code",
   "execution_count": 150,
   "id": "6188f707",
   "metadata": {},
   "outputs": [],
   "source": [
    "# str (string, zmienna tekstowa)\n",
    "# można zamiennie używać \" lub ', zleca się jednak '\n",
    "# zmienne str są immutable, niezmienne\n",
    "\n",
    "s = 'no hejka'"
   ]
  },
  {
   "cell_type": "code",
   "execution_count": 151,
   "id": "2669ee5d",
   "metadata": {},
   "outputs": [
    {
     "name": "stdout",
     "output_type": "stream",
     "text": [
      "n\n",
      "hejka\n",
      "akjeh on\n",
      "n ek\n"
     ]
    }
   ],
   "source": [
    "# stringi można indeksować\n",
    "# start (inclusive) : end (exclusive)\n",
    "# start : end : step\n",
    "# w pythonie indeksujemy od 0\n",
    "\n",
    "print(s[0], s[3:], s[::-1], s[::2], sep='\\n')"
   ]
  },
  {
   "cell_type": "code",
   "execution_count": 77,
   "id": "1d85f55f",
   "metadata": {
    "scrolled": true
   },
   "outputs": [
    {
     "ename": "TypeError",
     "evalue": "'str' object does not support item assignment",
     "output_type": "error",
     "traceback": [
      "\u001b[1;31m---------------------------------------------------------------------------\u001b[0m",
      "\u001b[1;31mTypeError\u001b[0m                                 Traceback (most recent call last)",
      "Cell \u001b[1;32mIn[77], line 1\u001b[0m\n\u001b[1;32m----> 1\u001b[0m s[\u001b[38;5;241m0\u001b[39m] \u001b[38;5;241m=\u001b[39m \u001b[38;5;124m\"\u001b[39m\u001b[38;5;124mt\u001b[39m\u001b[38;5;124m\"\u001b[39m\n",
      "\u001b[1;31mTypeError\u001b[0m: 'str' object does not support item assignment"
     ]
    }
   ],
   "source": [
    "# ale nie można zmieniać wartości\n",
    "# immutable\n",
    "\n",
    "s[0] = \"t\""
   ]
  },
  {
   "cell_type": "code",
   "execution_count": 109,
   "id": "701d30d7",
   "metadata": {},
   "outputs": [
    {
     "name": "stdout",
     "output_type": "stream",
     "text": [
      "3\n"
     ]
    }
   ],
   "source": [
    "# metoda count klasy str, występuje również w innych typach sekwencyjnych\n",
    "\n",
    "txt = \"Lubię pythona zajęcia z pythona, python\"\n",
    "\n",
    "print(txt.count('python'))"
   ]
  },
  {
   "cell_type": "code",
   "execution_count": 139,
   "id": "f5ae63bf",
   "metadata": {},
   "outputs": [
    {
     "name": "stdout",
     "output_type": "stream",
     "text": [
      "Imię Nazwisko\n"
     ]
    }
   ],
   "source": [
    "# konkatenacja stringów\n",
    "\n",
    "s1 = 'Imię'\n",
    "s2 = 'Nazwisko'\n",
    "s = s1 + ' ' + s2\n",
    "\n",
    "print(s)"
   ]
  },
  {
   "cell_type": "code",
   "execution_count": 140,
   "id": "1de7987f",
   "metadata": {},
   "outputs": [
    {
     "name": "stdout",
     "output_type": "stream",
     "text": [
      "ImięImięImię\n"
     ]
    }
   ],
   "source": [
    "print(s1 * 3)"
   ]
  },
  {
   "cell_type": "code",
   "execution_count": 154,
   "id": "13dc5ad7",
   "metadata": {},
   "outputs": [
    {
     "name": "stdout",
     "output_type": "stream",
     "text": [
      "IMIĘ nazwisko\n"
     ]
    }
   ],
   "source": [
    "print(s1.upper() + ' ' + s2.lower())"
   ]
  },
  {
   "cell_type": "code",
   "execution_count": 147,
   "id": "e6044ffd",
   "metadata": {},
   "outputs": [
    {
     "name": "stdout",
     "output_type": "stream",
     "text": [
      "a\n"
     ]
    }
   ],
   "source": [
    "x = 97\n",
    "print(chr(x))"
   ]
  },
  {
   "cell_type": "code",
   "execution_count": 148,
   "id": "edee52a6",
   "metadata": {},
   "outputs": [
    {
     "name": "stdout",
     "output_type": "stream",
     "text": [
      "80\n"
     ]
    }
   ],
   "source": [
    "x = \"P\"\n",
    "print(ord(x))"
   ]
  },
  {
   "cell_type": "markdown",
   "id": "150b7ef3",
   "metadata": {},
   "source": [
    "#### Formatowanie tekstu"
   ]
  },
  {
   "cell_type": "code",
   "execution_count": 159,
   "id": "ec81afa4",
   "metadata": {},
   "outputs": [
    {
     "name": "stdout",
     "output_type": "stream",
     "text": [
      "Liczba pi: 3.141592653589793, ale z zaokrągleniem 3.14\n"
     ]
    }
   ],
   "source": [
    "import math\n",
    "\n",
    "# f-strings, {zmienna:format}\n",
    "\n",
    "pi = math.pi\n",
    "\n",
    "print(f\"Liczba pi: {pi}, ale z zaokrągleniem {pi:.3}\")"
   ]
  },
  {
   "cell_type": "code",
   "execution_count": 67,
   "id": "a713a47f",
   "metadata": {},
   "outputs": [
    {
     "name": "stdout",
     "output_type": "stream",
     "text": [
      "1000-3.141592653589793-xyz\n",
      "      1000\n",
      "01000\n",
      "{binarnie}: 1111101000\n",
      "01750 = #3e8\n",
      "3.1416\n",
      "    3.1416\n",
      "3.1416e+00\n",
      "  3.14E+00\n",
      "--       xyz--\n",
      "--xyz       --\n",
      "--***1000***--\n",
      "-z-3-0.667\n"
     ]
    }
   ],
   "source": [
    "number = 1000\n",
    "text = 'xyz'\n",
    "\n",
    "print(f'{number}-{pi}-{text}')\n",
    "print(f'{number:10d}\\n{number:05d}')\n",
    "print(f'{{binarnie}}: {number:b}')\n",
    "print(f'0{number:o} = #{number:x}')\n",
    "print(f'{pi:0.4f}\\n{pi:10.4f}')\n",
    "print(f'{pi:0.4e}\\n{pi:10.2E}')\n",
    "print(f'--{text:>10}--\\n--{text:<10}--')\n",
    "print(f'--{number:*^10d}--')\n",
    "print(f'-{text[2]}-{len(text)}-{2/3:0.3f}')"
   ]
  },
  {
   "cell_type": "markdown",
   "id": "3f73ece9",
   "metadata": {},
   "source": [
    "#### Listy i podstawowe operacje na nich"
   ]
  },
  {
   "cell_type": "markdown",
   "id": "0f6603ec",
   "metadata": {},
   "source": [
    "Elementy listy/krotki mogą być tego samego lub różnych typów, mogą być również referencjami do funkcji."
   ]
  },
  {
   "cell_type": "code",
   "execution_count": 161,
   "id": "592e6baa",
   "metadata": {},
   "outputs": [
    {
     "name": "stdout",
     "output_type": "stream",
     "text": [
      "['można', 1, 1240.0, 155, None, <built-in function print>]\n"
     ]
    }
   ],
   "source": [
    "l = ['cośtam', 1, 1.24e03, 0x9b, None, print]\n",
    "\n",
    "l[0] = \"można\"\n",
    "\n",
    "print(l)"
   ]
  },
  {
   "cell_type": "code",
   "execution_count": 162,
   "id": "3cc4b525",
   "metadata": {},
   "outputs": [
    {
     "ename": "TypeError",
     "evalue": "'tuple' object does not support item assignment",
     "output_type": "error",
     "traceback": [
      "\u001b[1;31m---------------------------------------------------------------------------\u001b[0m",
      "\u001b[1;31mTypeError\u001b[0m                                 Traceback (most recent call last)",
      "Cell \u001b[1;32mIn[162], line 5\u001b[0m\n\u001b[0;32m      1\u001b[0m \u001b[38;5;66;03m# immutable\u001b[39;00m\n\u001b[0;32m      3\u001b[0m k \u001b[38;5;241m=\u001b[39m (\u001b[38;5;124m'\u001b[39m\u001b[38;5;124mcośtam\u001b[39m\u001b[38;5;124m'\u001b[39m, \u001b[38;5;241m1\u001b[39m, \u001b[38;5;241m1.24e03\u001b[39m, \u001b[38;5;241m0x9b\u001b[39m, \u001b[38;5;28;01mNone\u001b[39;00m, \u001b[38;5;28mprint\u001b[39m)\n\u001b[1;32m----> 5\u001b[0m k[\u001b[38;5;241m0\u001b[39m] \u001b[38;5;241m=\u001b[39m \u001b[38;5;124m\"\u001b[39m\u001b[38;5;124mnie można\u001b[39m\u001b[38;5;124m\"\u001b[39m\n",
      "\u001b[1;31mTypeError\u001b[0m: 'tuple' object does not support item assignment"
     ]
    }
   ],
   "source": [
    "# immutable\n",
    "\n",
    "k = ('cośtam', 1, 1.24e03, 0x9b, None, print)\n",
    "\n",
    "k[0] = \"nie można\""
   ]
  },
  {
   "cell_type": "markdown",
   "id": "ed7c7098",
   "metadata": {},
   "source": [
    "Listy - metody append(), extend() oraz reverse()"
   ]
  },
  {
   "cell_type": "code",
   "execution_count": 136,
   "id": "1dc7ecd9",
   "metadata": {},
   "outputs": [],
   "source": [
    "# utworzenie pustej listy\n",
    "\n",
    "l = list()\n",
    "l = []"
   ]
  },
  {
   "cell_type": "code",
   "execution_count": 163,
   "id": "fa2223fb",
   "metadata": {},
   "outputs": [
    {
     "name": "stdout",
     "output_type": "stream",
     "text": [
      "[0, 1, 2, 3, 4, 5, 6, 7, 8, 9]\n"
     ]
    }
   ],
   "source": [
    "# utworzenie listy od 0 do 9\n",
    "l = list(range(10))\n",
    "\n",
    "print(l)"
   ]
  },
  {
   "cell_type": "code",
   "execution_count": 83,
   "id": "23fad059",
   "metadata": {},
   "outputs": [
    {
     "name": "stdout",
     "output_type": "stream",
     "text": [
      "range(stop) -> range object\n",
      "range(start, stop[, step]) -> range object\n",
      "\n",
      "Return an object that produces a sequence of integers from start (inclusive)\n",
      "to stop (exclusive) by step.  range(i, j) produces i, i+1, i+2, ..., j-1.\n",
      "start defaults to 0, and stop is omitted!  range(4) produces 0, 1, 2, 3.\n",
      "These are exactly the valid indices for a list of 4 elements.\n",
      "When step is given, it specifies the increment (or decrement).\n"
     ]
    }
   ],
   "source": [
    "# co to w ogóle jest range? Można również spróbować help(range)\n",
    "print(range.__doc__)"
   ]
  },
  {
   "cell_type": "code",
   "execution_count": 164,
   "id": "152d1cc4",
   "metadata": {},
   "outputs": [
    {
     "name": "stdout",
     "output_type": "stream",
     "text": [
      "[0, 1, 2, 3, 4, 5, 6, 7, 8, 9, '66']\n"
     ]
    }
   ],
   "source": [
    "# dodawanie elementu na koniec metodą append()\n",
    "p = \"66\"\n",
    "\n",
    "l.append(p)\n",
    "\n",
    "print(l)"
   ]
  },
  {
   "cell_type": "code",
   "execution_count": 165,
   "id": "5dcafdd6",
   "metadata": {},
   "outputs": [
    {
     "name": "stdout",
     "output_type": "stream",
     "text": [
      "[0, 1, 2, 3, 4, 5, 6, 7, 8, 9, '66', 10, 11, 12, 13, 14]\n"
     ]
    }
   ],
   "source": [
    "# rozszerzanie o elementy innej kolekcji\n",
    "l.extend(range(10, 15, 1))\n",
    "print(l)"
   ]
  },
  {
   "cell_type": "code",
   "execution_count": 92,
   "id": "36351e93",
   "metadata": {},
   "outputs": [
    {
     "name": "stdout",
     "output_type": "stream",
     "text": [
      "[9, 8, 7, 6, 5, 4, 3, 2, 1, 0]\n"
     ]
    }
   ],
   "source": [
    "# odwracanie in-place\n",
    "l = list(range(10))\n",
    "l.reverse()\n",
    "print(l)"
   ]
  },
  {
   "cell_type": "code",
   "execution_count": 166,
   "id": "8e5aff54",
   "metadata": {},
   "outputs": [
    {
     "data": {
      "text/plain": [
       "[14, 13, 12, 11, 10, '66', 9, 8, 7, 6, 5, 4, 3, 2, 1, 0]"
      ]
     },
     "execution_count": 166,
     "metadata": {},
     "output_type": "execute_result"
    }
   ],
   "source": [
    "l[::-1]"
   ]
  },
  {
   "cell_type": "code",
   "execution_count": 93,
   "id": "cb95bb6d",
   "metadata": {},
   "outputs": [
    {
     "name": "stdout",
     "output_type": "stream",
     "text": [
      "[0, 1, 2, 3, 4, 5, 6, 7, 8, 9]\n"
     ]
    }
   ],
   "source": [
    "l = l[::-1]\n",
    "print(l)"
   ]
  },
  {
   "cell_type": "code",
   "execution_count": 168,
   "id": "d2ade1c5",
   "metadata": {},
   "outputs": [
    {
     "name": "stdout",
     "output_type": "stream",
     "text": [
      "[1, 2, 5]\n"
     ]
    }
   ],
   "source": [
    "# sort vs sorted\n",
    "\n",
    "l = [5, 1, 2]\n",
    "\n",
    "sorted(l)\n",
    "print(l)\n",
    "\n",
    "l.sort() # tylko do list\n",
    "print(l)"
   ]
  },
  {
   "cell_type": "code",
   "execution_count": 115,
   "id": "1b8a7e09",
   "metadata": {},
   "outputs": [
    {
     "name": "stdout",
     "output_type": "stream",
     "text": [
      "['a', 'to była referencja', 'c']\n",
      "True\n"
     ]
    }
   ],
   "source": [
    "# mutability\n",
    "l1 = ['a', 'b', 'c']\n",
    "l2 = l1\n",
    "l2[1] = 'to była referencja'\n",
    "\n",
    "print(l1)\n",
    "print(l1 == l2) # id()"
   ]
  },
  {
   "cell_type": "code",
   "execution_count": 117,
   "id": "f024ea3a",
   "metadata": {},
   "outputs": [
    {
     "name": "stdout",
     "output_type": "stream",
     "text": [
      "['a', 'b', 'c']\n",
      "False\n"
     ]
    }
   ],
   "source": [
    "l1 = ['a', 'b', 'c']\n",
    "l2 = l1.copy() # lub l2 = l1[:]\n",
    "l2[1] = 'a to inny obiekt'\n",
    "\n",
    "print(l1)\n",
    "print(l1 == l2)"
   ]
  },
  {
   "cell_type": "code",
   "execution_count": 118,
   "id": "2b884c70",
   "metadata": {},
   "outputs": [
    {
     "name": "stdout",
     "output_type": "stream",
     "text": [
      "[0, 'a', 'b', 'c', 1, 2]\n"
     ]
    }
   ],
   "source": [
    "l = list(range(3))\n",
    "\n",
    "# przypisanie do pustego slice’a\n",
    "l[1:1] = ['a', 'b', 'c']\n",
    "print(l)"
   ]
  },
  {
   "cell_type": "code",
   "execution_count": 119,
   "id": "4c088fb1",
   "metadata": {},
   "outputs": [
    {
     "name": "stdout",
     "output_type": "stream",
     "text": [
      "[0, ['a', 'b', 'c'], 2]\n"
     ]
    }
   ],
   "source": [
    "l = list(range(3))\n",
    "\n",
    "# vs przypisanie do pozycji 1\n",
    "l[1] = ['a', 'b', 'c']\n",
    "print(l)"
   ]
  },
  {
   "cell_type": "code",
   "execution_count": 169,
   "id": "38f22a18",
   "metadata": {},
   "outputs": [
    {
     "name": "stdout",
     "output_type": "stream",
     "text": [
      "['tak', 'tak', 'tak']\n"
     ]
    }
   ],
   "source": [
    "# metody split i join\n",
    "\n",
    "s = \"tak, tak, tak\"\n",
    "l  = s.split(\", \")\n",
    "\n",
    "print(l)"
   ]
  },
  {
   "cell_type": "code",
   "execution_count": 107,
   "id": "c78ae9e9",
   "metadata": {},
   "outputs": [
    {
     "name": "stdout",
     "output_type": "stream",
     "text": [
      "taktaktak\n"
     ]
    }
   ],
   "source": [
    "print(\"\".join(l))"
   ]
  },
  {
   "cell_type": "code",
   "execution_count": 171,
   "id": "951ba982",
   "metadata": {},
   "outputs": [
    {
     "name": "stdout",
     "output_type": "stream",
     "text": [
      "tak, tak, tak\n"
     ]
    }
   ],
   "source": [
    "print(\", \".join(l))"
   ]
  },
  {
   "cell_type": "markdown",
   "id": "80a6a0b1",
   "metadata": {},
   "source": [
    "#### Kolekcje nieuporządkowane"
   ]
  },
  {
   "cell_type": "code",
   "execution_count": 122,
   "id": "e2c98bd0",
   "metadata": {},
   "outputs": [
    {
     "name": "stdout",
     "output_type": "stream",
     "text": [
      "{1.0, 2, 4.235, 'a', 'b', 'c'}\n"
     ]
    }
   ],
   "source": [
    "# set to kolekcja unikalnych elementów\n",
    "\n",
    "\n",
    "s = {1.0, 'tekst', 4.235}\n",
    "\n",
    "# dodaj pojedynczy element,\n",
    "s.add(2)\n",
    "\n",
    "# dodaj elementy z innej kolekcji\n",
    "s.update(['a', 'b', 'c'])\n",
    "\n",
    "# usuń pojedynczy element\n",
    "s.discard('tekst')\n",
    "\n",
    "print(s)"
   ]
  },
  {
   "cell_type": "code",
   "execution_count": 124,
   "id": "9e50f304",
   "metadata": {},
   "outputs": [
    {
     "name": "stdout",
     "output_type": "stream",
     "text": [
      "{0, 1, 2, 3}\n"
     ]
    }
   ],
   "source": [
    "# konwersja listy/krotki do zbioru (set)\n",
    "l = [0, 1, 1, 1, 1, 1, 2, 3]\n",
    "s = set(l)\n",
    "\n",
    "print(s)"
   ]
  },
  {
   "cell_type": "code",
   "execution_count": 125,
   "id": "5a84312e",
   "metadata": {},
   "outputs": [
    {
     "name": "stdout",
     "output_type": "stream",
     "text": [
      "{0, 1, 2, 3}\n",
      "frozenset({0, 1, 2, 3})\n"
     ]
    }
   ],
   "source": [
    "# frozenset - immutable\n",
    "fs = frozenset(l)\n",
    "print(s, fs, sep='\\n')"
   ]
  },
  {
   "cell_type": "code",
   "execution_count": 127,
   "id": "54b94aff",
   "metadata": {},
   "outputs": [],
   "source": [
    "s1 = {1, 2, 3, 4, 5, 6}\n",
    "s2 = {4, 5, 6, 7, 8, 9}\n",
    "\n",
    "# suma zbiorów, s1 lub s2\n",
    "union = s1 | s2\n",
    "union = s1.union(s2)\n",
    "\n",
    "# różnica zbiorów, s1 odjąć s2\n",
    "# elementy zbioru s1 nieobecne w s2\n",
    "diff = s1 - s2\n",
    "diff = s1.difference(s2)\n",
    "\n",
    "# przecięcie, s1 i s2\n",
    "# elementy obecne zarówno w s1 jak i s2\n",
    "inter = s1 & s2\n",
    "inter = s1.intersection(s2)\n",
    "\n",
    "# różnica symetryczna, suma - przecięcie\n",
    "# elementy unikalne dla obu zbiorów\n",
    "sym = s1 ^ s2\n",
    "sym = s1.symmetric_difference(s2)"
   ]
  },
  {
   "cell_type": "code",
   "execution_count": 172,
   "id": "9e9cee5f",
   "metadata": {},
   "outputs": [
    {
     "name": "stdout",
     "output_type": "stream",
     "text": [
      "a\n",
      "c\n"
     ]
    }
   ],
   "source": [
    "# dict, dictionary (słownik) to kolekcja\n",
    "# par klucz : wartość, gdzie klucz to\n",
    "# zmienna typu podstawowego lub immutable collection\n",
    "\n",
    "d = dict()\n",
    "d = {}\n",
    "\n",
    "d = {\n",
    "    '1' : 'a',2.0 : ['b', 'b', 'b'],(1, 2) : 'c',10 : 20.5\n",
    "}\n",
    "\n",
    "print(d['1'])\n",
    "print(d[(1,2)])"
   ]
  },
  {
   "cell_type": "code",
   "execution_count": 173,
   "id": "8c04f2e6",
   "metadata": {},
   "outputs": [
    {
     "name": "stdout",
     "output_type": "stream",
     "text": [
      "{'1': 'a', 2.0: ['b', 'b', 'b'], (1, 2): 'c', 10: 20.5, 'nowy klucz': 'nowa wartość'}\n"
     ]
    }
   ],
   "source": [
    "# dodajemy nową parę\n",
    "d['nowy klucz'] = 'nowa wartość'\n",
    "print(d)"
   ]
  },
  {
   "cell_type": "markdown",
   "id": "fe3d4a5d",
   "metadata": {},
   "source": [
    "#### Minimum o przyjmowaniu danych od użytkownika"
   ]
  },
  {
   "cell_type": "code",
   "execution_count": 35,
   "id": "66458e82",
   "metadata": {},
   "outputs": [
    {
     "name": "stdout",
     "output_type": "stream",
     "text": [
      "Podaj swoją cenę: 7\n",
      "7\n",
      "<class 'str'>\n"
     ]
    }
   ],
   "source": [
    "x = input(\"Podaj swoją cenę: \")\n",
    "\n",
    "print(x)\n",
    "print(type(x))"
   ]
  },
  {
   "cell_type": "markdown",
   "id": "8f722a14",
   "metadata": {},
   "source": [
    "### Wywoływanie skryptów .py z wiersza poleceń (Linux)\n",
    "\n",
    "Skrypt rozpoczynamy od sekwencji znaków Shebang (#!), po której znajduje się ścieżka do interpretera. Uniksowe narzędzie powłokowe **env** pozwala wyszukać jego lokalizacje w zmiennej środowiskowej **$PATH**, co służy przenośność skryptu.\n",
    "\n",
    "            #!/usr/bin/env python\n",
    "            \n",
    "            \n",
    "Wiersz poleceń możemy wywołać kożystając z klawiszy **Ctrl+Alt+T**.\n",
    "\n",
    "Po utworzeniu pliku .py konieczna może być zmiana uprawnień do niego przed uruchomieniem **chmod +x myscript.py.**\n",
    "\n",
    "Teraz możemy wywołać nasz skrypt za pomocą **./myscript.py**"
   ]
  },
  {
   "cell_type": "markdown",
   "id": "35195674",
   "metadata": {},
   "source": [
    "**Zadanie 0.** Utwórz skrypt *.py* wypisujący na ekranie napis \"Hello World!\". Uruchom go z wierasza poleceń."
   ]
  },
  {
   "cell_type": "markdown",
   "id": "00f984e9",
   "metadata": {},
   "source": [
    "**Zadanie 1.** Oblicz procentową zawartość GC w poniższej sekwencji. Wypisz ją na ekranie z dokładnością do drugiego miejsca po przecinku.\n",
    "\n",
    "                ATGCATATGACTCAATGCCCATTAAAAA"
   ]
  },
  {
   "cell_type": "markdown",
   "id": "bcc9ecaa",
   "metadata": {},
   "source": [
    "**Zadanie 2.** Napisz program, który pomiędzy słowa zdania \"Kocham Pythona Kocham Bioinformatykę\" umieszcza wyraz \"bardzo\" i wypisuje je dużymi literami."
   ]
  },
  {
   "cell_type": "markdown",
   "id": "abd0356e",
   "metadata": {},
   "source": [
    "**Zadanie 3.** Napisz program, który przyjmuje od użytkownika jego imię oraz nazwisko a następnie wypisuje propozycję jego adresu email w domenie student.uj.edu.pl. Upewnij się że zawiera tylko małe litery."
   ]
  },
  {
   "cell_type": "markdown",
   "id": "9d56f2d6",
   "metadata": {},
   "source": [
    "**Zadanie 4.** Twój kolega chciałby sprawdzić czy imię jego najlepszego przyjaciela znajduje się na liście zabawnych imion. Najpierw chciałby ją uaktualnić, ale nie potrafi programować i jego kod nie działa. Pomóż mu naprawiając jego kod:\n",
    "\n",
    "names_list = (\"Dill Doe\", \"Chris P. Bacon\", \"Ben Dover\")\n",
    "\n",
    "names_list.append(\"Harry Dixon\")\n",
    "\n",
    "input = input(\"Podaję imię : )\n",
    "\n",
    "b = input in names_list\n",
    "\n",
    "print b"
   ]
  },
  {
   "cell_type": "markdown",
   "id": "3da3ce69",
   "metadata": {},
   "source": [
    "**Zadanie tylko jakby komuś bardzo się nudziło na zajęciach.** Zbadaj zawartość modułu *this*, odkoduj zawartą w nim wiadomość."
   ]
  }
 ],
 "metadata": {
  "kernelspec": {
   "display_name": "Python 3 (ipykernel)",
   "language": "python",
   "name": "python3"
  },
  "language_info": {
   "codemirror_mode": {
    "name": "ipython",
    "version": 3
   },
   "file_extension": ".py",
   "mimetype": "text/x-python",
   "name": "python",
   "nbconvert_exporter": "python",
   "pygments_lexer": "ipython3",
   "version": "3.11.4"
  }
 },
 "nbformat": 4,
 "nbformat_minor": 5
}
