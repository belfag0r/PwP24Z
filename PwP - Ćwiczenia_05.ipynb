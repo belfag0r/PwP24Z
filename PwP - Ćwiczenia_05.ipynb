{
 "cells": [
  {
   "cell_type": "markdown",
   "id": "c91abc3f",
   "metadata": {},
   "source": [
    "# Programowanie obiektowe"
   ]
  },
  {
   "cell_type": "markdown",
   "id": "655e7f0d",
   "metadata": {},
   "source": [
    "Zapoznamy się z słowem kluczowym:\n",
    "\n",
    "* class\n",
    "\n",
    "\n",
    "<br>\n",
    "\n",
    "\n",
    "oraz wybranymi metodami specjalnymi klas i podstawami dziedziczenia.\n",
    "\n",
    "<br>"
   ]
  },
  {
   "cell_type": "markdown",
   "id": "729c9703",
   "metadata": {},
   "source": [
    "## Metody  i atrybuty specjalne"
   ]
  },
  {
   "cell_type": "markdown",
   "id": "ec88ec8f",
   "metadata": {},
   "source": [
    "W Pythonie **wszystko** jest jakimś **obiektem**, czyli należy do jakiejś **klasy**. Obiekty są instancjami klasy.\n",
    "\n",
    "Każad klasa zawiera atrybuty (pola na dane) oraz metody, czyli dedykowane funkcje. Możemy nimi operować, na danym obiekcie, wpisujących ich nazwy po kropce. Przykładowo:\n",
    "\n",
    "        NazwaInstancjiObiektuDanejKlasy.nazwa_pola_z_danymi -> *dane z tego pola*\n",
    "\n",
    "\n",
    "Podstawową klasą, z której **dziedziczą** wszystkie inne, jest klasa *object*. Możemy to sprawdzić definiująć nową klasę np. **Moja_klasa** (powszechnym zwyczajem jest zaczynanie z dużej litery) a następnie wypisać jej zawartość kożystająć z funkcji *dir*."
   ]
  },
  {
   "cell_type": "code",
   "execution_count": 1,
   "id": "d4a81f8b",
   "metadata": {},
   "outputs": [
    {
     "name": "stdout",
     "output_type": "stream",
     "text": [
      "['__class__', '__delattr__', '__dict__', '__dir__', '__doc__', '__eq__', '__format__', '__ge__', '__getattribute__', '__getstate__', '__gt__', '__hash__', '__init__', '__init_subclass__', '__le__', '__lt__', '__module__', '__ne__', '__new__', '__reduce__', '__reduce_ex__', '__repr__', '__setattr__', '__sizeof__', '__str__', '__subclasshook__', '__weakref__']\n"
     ]
    }
   ],
   "source": [
    "class Moja_klasa:\n",
    "    pass\n",
    "\n",
    "obiekt = Moja_klasa()\n",
    "\n",
    "print(dir(obiekt))"
   ]
  },
  {
   "cell_type": "markdown",
   "id": "a37c78be",
   "metadata": {},
   "source": [
    "Jak łatwo można zauważyć wszystkie wypisane nazwy znajdują się pomiędzy podwójnymi znakami podkreślenia. Z tego względu często nazywane są \"specjalnymi\".\n",
    "\n",
    "Są to atrybuty (mogące również być metodami) stanowiące element wewnętrznej maszynerii języka. Definując nową klasę możemy je nadpisywać zmieniając jej zachowanie względem innych funkcji języka.\n",
    "\n",
    "Podstawową metodą jest *\\_\\_init__*, która przypisuje atrybutom instancji klasy zadane wartości podczas jej utworzenia."
   ]
  },
  {
   "cell_type": "code",
   "execution_count": 2,
   "id": "4768964c",
   "metadata": {},
   "outputs": [
    {
     "name": "stdout",
     "output_type": "stream",
     "text": [
      "Przypisano attribute_one wartość 3\n",
      "Przypisano attribute_two wartość 8\n"
     ]
    }
   ],
   "source": [
    "class Moja_klasa2():\n",
    "    \n",
    "    \n",
    "    def __init__(self, atr1, atr2): # inicjalizacja nowej instancji klasy wymagać będzie podania dwóch argumentów atr1 i atr2\n",
    "        \n",
    "        # inicjalizator przypisze je wskazanym polom klasy\n",
    "        \n",
    "        self.attribute_one = atr1\n",
    "        self.attribute_two = atr2\n",
    "        \n",
    "    def __setattr__(self, name, value): # nadpiszemy tą metodę specjalną żeby zobaczyć, iż jest wywoływana przez inicjalizator\n",
    "        print(f\"Przypisano {name} wartość {value}\")\n",
    "        self.__dict__[name] = value\n",
    "        \n",
    "    def __str__(self): # jak powinna zachować się klasa kiedy użyjemy funkcji print?\n",
    "        return f\"Ten obiekt ma {self.attribute_one} i {self.attribute_two}\"\n",
    "\n",
    "        \n",
    "obiekt2 = Moja_klasa2(3, 8)"
   ]
  },
  {
   "cell_type": "markdown",
   "id": "ee5a2987",
   "metadata": {},
   "source": [
    "***self*** to powszechnie przyjęte wewnętrzne nazewnictwo instancji klasy, ale nie ma specjalnego znaczenia (odniesienie do danej instancji klasy - obiektu)."
   ]
  },
  {
   "cell_type": "markdown",
   "id": "fc381e44",
   "metadata": {},
   "source": [
    "Innym przykładem jest metoda *\\_\\_str__* definiująca zachowanie przy podaniu obiektu do funkcji *print*. Jeżeli jej nie nadpiszemy domyślnie wywoływana będzie metoda *\\_\\_repr__* zwracająca 'reprezentację' obiektu - domyślnie adres w pamięci (naturalnie *\\_\\_repr__* również możemy nadpisać)."
   ]
  },
  {
   "cell_type": "code",
   "execution_count": 3,
   "id": "bb6fb29a",
   "metadata": {},
   "outputs": [
    {
     "name": "stdout",
     "output_type": "stream",
     "text": [
      "<__main__.Moja_klasa object at 0x000002B6838F5F10>\n"
     ]
    }
   ],
   "source": [
    "print(obiekt)"
   ]
  },
  {
   "cell_type": "code",
   "execution_count": 5,
   "id": "16f1f71d",
   "metadata": {},
   "outputs": [
    {
     "name": "stdout",
     "output_type": "stream",
     "text": [
      "Ten obiekt ma 3 i 8\n"
     ]
    }
   ],
   "source": [
    "print(obiekt2)"
   ]
  },
  {
   "cell_type": "markdown",
   "id": "f0b6991e",
   "metadata": {},
   "source": [
    "Natomiast metodę *\\_\\_lt__* (definicja działania dla operatora less-than \"<\") **należy nadpisać by obiekty zdefiniowanej przez nas klasy można było sortować** przy użyciu funkcji *sorted* lub metody *sort*. Zachowanie dla pozostłych operatorów np. \"+\" (*\\_\\_add__*) również można w taki sposób zdefiniować."
   ]
  },
  {
   "cell_type": "markdown",
   "id": "91a3883c",
   "metadata": {},
   "source": [
    "## Przykładowa definicja klasy oraz dziedziczenia"
   ]
  },
  {
   "cell_type": "markdown",
   "id": "ab0e39d2",
   "metadata": {},
   "source": [
    "Często możemy chcieć zdefiniować wiele nieznacznie różniących się klas. W takiej sytuacji możemy wykorzystać **dziedziczenie**. Przykładowo zdefiniujmy klasę bazową *Human*, będzie ona **super**klasą dla (jej) podklasy *Student* oraz *Instructor*. Różnice pozostawiam do samodzielnego przestudiowania!"
   ]
  },
  {
   "cell_type": "code",
   "execution_count": 6,
   "id": "3a181307",
   "metadata": {},
   "outputs": [],
   "source": [
    "class Human:\n",
    "    \n",
    "    # zmienna klasowa - 'globalna' - wspólna dla wszystkich instancji\n",
    "    Number_of_humans = 0\n",
    "    \n",
    "    def __init__(self, name, age):\n",
    "        \n",
    "        # pola zmiennych instacji klasy\n",
    "        self.name = name\n",
    "        self.age = age\n",
    "        \n",
    "        Human.Number_of_humans += 1\n",
    "    \n",
    "    def introduce(self):\n",
    "        print(f'Hi, nazywam się {self.name} i mam {self.age} lat')\n",
    "        "
   ]
  },
  {
   "cell_type": "code",
   "execution_count": 7,
   "id": "038539e0",
   "metadata": {},
   "outputs": [],
   "source": [
    "class Instructor(Human):\n",
    "    \n",
    "    # podajemy wszystkie wartości pól\n",
    "    def __init__(self, name, age, salary):\n",
    "        \n",
    "        # podajemy wartości pól dla superklasy (z której dziedziczymy)\n",
    "        super().__init__(name, age)\n",
    "        \n",
    "        self.salary = salary"
   ]
  },
  {
   "cell_type": "code",
   "execution_count": 9,
   "id": "c96d49c0",
   "metadata": {},
   "outputs": [
    {
     "name": "stdout",
     "output_type": "stream",
     "text": [
      "Hi, nazywam się Stefan i mam 27 lat\n"
     ]
    }
   ],
   "source": [
    "worker = Instructor(\"Stefan\", 27, 0)\n",
    "worker.introduce()"
   ]
  },
  {
   "cell_type": "code",
   "execution_count": 10,
   "id": "72508365",
   "metadata": {},
   "outputs": [],
   "source": [
    "class Student(Human):\n",
    "    \n",
    "    def __init__(self, name, age, program):\n",
    "        \n",
    "        super().__init__(name, age)\n",
    "        \n",
    "        self.program = program\n",
    "        self.grades = []\n",
    "        \n",
    "    def introduce(self):\n",
    "        print(f'Hi, nazywam się {self.name}, studjuję {self.program} i mam {self.age} lat')\n",
    "    \n",
    "    def recive_grade(self, grade):\n",
    "        self.grades.append(grade)"
   ]
  },
  {
   "cell_type": "code",
   "execution_count": 11,
   "id": "977358b5",
   "metadata": {},
   "outputs": [],
   "source": [
    "janusz_pl = Student(\"Janusz\", 53, \"Turystyka\")"
   ]
  },
  {
   "cell_type": "code",
   "execution_count": 12,
   "id": "115e6fc0",
   "metadata": {},
   "outputs": [
    {
     "name": "stdout",
     "output_type": "stream",
     "text": [
      "Hi, nazywam się Janusz, studjuję Turystyka i mam 53 lat\n"
     ]
    }
   ],
   "source": [
    "janusz_pl.introduce()"
   ]
  },
  {
   "cell_type": "code",
   "execution_count": 13,
   "id": "8dcd1c9b",
   "metadata": {},
   "outputs": [
    {
     "data": {
      "text/plain": [
       "{'name': 'Janusz', 'age': 53, 'program': 'Turystyka', 'grades': []}"
      ]
     },
     "execution_count": 13,
     "metadata": {},
     "output_type": "execute_result"
    }
   ],
   "source": [
    "janusz_pl.__dict__"
   ]
  },
  {
   "cell_type": "code",
   "execution_count": 14,
   "id": "8e402cd7",
   "metadata": {},
   "outputs": [
    {
     "name": "stdout",
     "output_type": "stream",
     "text": [
      "3\n"
     ]
    }
   ],
   "source": [
    "print(Human.Number_of_humans)"
   ]
  },
  {
   "cell_type": "markdown",
   "id": "ca4e7e15",
   "metadata": {},
   "source": [
    "Możliwe jest dziedziczenie po wielu klasach; konflikty w dziedziczeniu rozwiązywane są przez MRO (ang. *Method Resolution Order*), które w Pythonie 3 wykożystuje algorytm linearyzacji C3. Możemy sprawdzić jej kolejnośc wywołując *mro* lub *\\_\\_mro__*."
   ]
  },
  {
   "cell_type": "code",
   "execution_count": 15,
   "id": "1242d8a6",
   "metadata": {},
   "outputs": [
    {
     "data": {
      "text/plain": [
       "[__main__.Student, __main__.Human, object]"
      ]
     },
     "execution_count": 15,
     "metadata": {},
     "output_type": "execute_result"
    }
   ],
   "source": [
    "Student.mro()"
   ]
  },
  {
   "cell_type": "markdown",
   "id": "e501f782",
   "metadata": {},
   "source": [
    "### Dekoratory - metody statyczne oraz klasowe"
   ]
  },
  {
   "cell_type": "markdown",
   "id": "11b75c19",
   "metadata": {},
   "source": [
    "Definicję funkcji można poprzedzić znakiem '@' oraz konkretnym hasłem, co zmodyfikuje jej zachowanie. W definicjach metod klasy często stosowane są dwa dekoratory *@staticmethod* oraz *@classmethod*.\n",
    "\n",
    "Statyczne to z reguły funkcje *utility*, nie wymagające *self* jako pierwszego argumentu. Natomiast klasowe dają dostęp do zmiennych klasowych, przykładowo może być to funkcja do utworzenia wielu obiektów danej klasy z danych w pliku."
   ]
  },
  {
   "cell_type": "code",
   "execution_count": 84,
   "id": "68dc6003",
   "metadata": {},
   "outputs": [],
   "source": [
    "class Human:\n",
    "    \n",
    "    Number_of_humans = 0\n",
    "    \n",
    "    def __init__(self, name, age):\n",
    "        \n",
    "        self.name = name\n",
    "        self.age = age\n",
    "        \n",
    "        Human.Number_of_humans += 1\n",
    "        \n",
    "    @staticmethod\n",
    "    def give_name():\n",
    "        return \"Human\" + str(Human.Number_of_humans + 1)\n",
    "    \n",
    "    @classmethod    \n",
    "    def print_number_of_humans(cls):\n",
    "        print(cls.Number_of_humans)"
   ]
  },
  {
   "cell_type": "code",
   "execution_count": 85,
   "id": "a31e76a1",
   "metadata": {},
   "outputs": [
    {
     "name": "stdout",
     "output_type": "stream",
     "text": [
      "Human1\n",
      "1\n"
     ]
    }
   ],
   "source": [
    "h1 = Human(Human.give_name(), 9)\n",
    "\n",
    "print(h1.name)\n",
    "Human.print_number_of_humans()"
   ]
  },
  {
   "cell_type": "markdown",
   "id": "81801c56",
   "metadata": {},
   "source": [
    "## Dodatek"
   ]
  },
  {
   "cell_type": "markdown",
   "id": "ed8aac02",
   "metadata": {},
   "source": [
    "*dataclass* doda za nas inicjalizator i wiele metod specjalnych."
   ]
  },
  {
   "cell_type": "code",
   "execution_count": 17,
   "id": "1aa6f739",
   "metadata": {},
   "outputs": [],
   "source": [
    "from dataclasses import dataclass\n",
    "\n",
    "\n",
    "@dataclass\n",
    "class Polityk:\n",
    "    imie : str\n",
    "    nazwisko : str\n",
    "    orientacja : str\n",
    "\n",
    "kandydat1 = Polityk(\"Sławomir\", \"Mentzen\", \"Lewica\")\n",
    "#dir(kandydat1)"
   ]
  },
  {
   "cell_type": "markdown",
   "id": "2ae44b19",
   "metadata": {},
   "source": [
    "Klasa może służyć również jako dekorator, w tym celu należy zdefiniować metodę specjalną __ call__."
   ]
  },
  {
   "cell_type": "markdown",
   "id": "4e6be8d2",
   "metadata": {},
   "source": [
    "**Zadanie 1**. Zdefiniuj działanie metody specjalnej *\\_\\_lt__* w klasie *Student* tak aby \"obiekty\" takie były sortowane ze względu na średnią (obliczaną z *self.grades*)."
   ]
  },
  {
   "cell_type": "markdown",
   "id": "ecb9ebaf",
   "metadata": {},
   "source": [
    "**Zadanie 2**. Zdefiniuj klasę bazową *Seq*. Powinna ona zawierać pola *seq_id* oraz *seq*, których wartości powinny być ustawiane, na te zadane inicjalizatorowi. \n",
    "\n",
    "Należy nadpisać metody specjalne *\\_\\_len__* oraz *\\_\\_str__* tak aby zwracana była odpowiednio długość *seq* oraz *seq*.\n",
    "\n",
    "Następnie zdefiniuj klasy *RNASeq* oraz *DNASeq* dziedziczące z *Seq*. Każda z nich powinna zawierać zmienną klasową definującą dozwolone znaki. Podczas inicjalizacji danego obiektu powinien on sprawdzać czy zawiera tylko dozwolone znaki (w przeciwnym razie należy wyrzucić błąd). Dodatkowo *DNASeq* powinno posiadać metodę *transcribe* zwracającą sekwencję *seq* jako RNA; a RNASeq metodę obliczającą procentową zawartość G+C.\n",
    "\n",
    "Proszę zamieścić w klasie *Seq* metodę klasową *from_file* zwracającą listę obiektów wycztanych z pliku *.fasta*. Pomocniczą definicję do uzupełnienia zamieszczam poniżej."
   ]
  },
  {
   "cell_type": "code",
   "execution_count": null,
   "id": "27b54f93",
   "metadata": {},
   "outputs": [],
   "source": [
    "@classmethod\n",
    "def from_file(cls, filename): # cls jest dla klasy tym czym self dla instancji\n",
    "    \n",
    "    seq_list = []\n",
    "    \n",
    "    with open(filename) as f:\n",
    "        ...\n",
    "    \n",
    "    for seq in seqs:\n",
    "        seq_list.append(cls(seq_id, seq))\n",
    "    \n",
    "    return seq_list"
   ]
  }
 ],
 "metadata": {
  "kernelspec": {
   "display_name": "Python 3 (ipykernel)",
   "language": "python",
   "name": "python3"
  },
  "language_info": {
   "codemirror_mode": {
    "name": "ipython",
    "version": 3
   },
   "file_extension": ".py",
   "mimetype": "text/x-python",
   "name": "python",
   "nbconvert_exporter": "python",
   "pygments_lexer": "ipython3",
   "version": "3.11.4"
  }
 },
 "nbformat": 4,
 "nbformat_minor": 5
}
