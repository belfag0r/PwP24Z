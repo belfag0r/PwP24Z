{
 "cells": [
  {
   "cell_type": "code",
   "execution_count": 80,
   "id": "be0a26a8",
   "metadata": {},
   "outputs": [],
   "source": [
    "import re"
   ]
  },
  {
   "cell_type": "code",
   "execution_count": 81,
   "id": "25d07a26",
   "metadata": {},
   "outputs": [],
   "source": [
    "# FUNKCJE POMOCNICZE\n",
    "\n",
    "table_data = \"\"\"\n",
    "UUU F      CUU L      AUU I      GUU V\n",
    "UUC F      CUC L      AUC I      GUC V\n",
    "UUA L      CUA L      AUA I      GUA V\n",
    "UUG L      CUG L      AUG M      GUG V\n",
    "UCU S      CCU P      ACU T      GCU A\n",
    "UCC S      CCC P      ACC T      GCC A\n",
    "UCA S      CCA P      ACA T      GCA A\n",
    "UCG S      CCG P      ACG T      GCG A\n",
    "UAU Y      CAU H      AAU N      GAU D\n",
    "UAC Y      CAC H      AAC N      GAC D\n",
    "UAA *      CAA Q      AAA K      GAA E\n",
    "UAG *      CAG Q      AAG K      GAG E\n",
    "UGU C      CGU R      AGU S      GGU G\n",
    "UGC C      CGC R      AGC S      GGC G\n",
    "UGA *      CGA R      AGA R      GGA G\n",
    "UGG W      CGG R      AGG R      GGG G\n",
    "\"\"\".split()\n",
    "\n",
    "codon_2_aa = dict(zip(table_data[::2], table_data[1::2]))\n",
    "\n",
    "def translate2(seq):\n",
    "    return \"\".join([codon_2_aa.get(seq[i:i+3], '') for i in range(0, len(seq), 3)])\n",
    "\n",
    "def transcribe2(seq):\n",
    "    return seq.replace(\"T\", \"U\")\n",
    "\n",
    "def rev_comp2(seq):\n",
    "    return seq.translate(str.maketrans(\"ATCG\", \"TAGC\"))[::-1]"
   ]
  },
  {
   "cell_type": "code",
   "execution_count": 82,
   "id": "14bd2293",
   "metadata": {},
   "outputs": [
    {
     "name": "stdout",
     "output_type": "stream",
     "text": [
      "{'MLLGSFRLIPKETLIQVAGSSPCNLS', 'M', 'MGMTPRLGLESLLE', 'MTPRLGLESLLE'}\n"
     ]
    }
   ],
   "source": [
    "dna_seq = \"AGCCATGTAGCTAACTCAGGTTACATGGGGATGACCCCGCGACTTGGATTAGAGTCTCTTTTGGAATAAGCCTGAATGATCCGAGTAGCATCTCAG\"\n",
    "orf_pattern = r'(?=(AUG(?:...)*?)(?=UAG|UGA|UAA))' # można re.compile, ale daje to bardzo mało..\n",
    "orfs = []\n",
    "\n",
    "for frame_shift in range(3):\n",
    "    orfs.append(re.findall(orf_pattern, transcribe2(dna_seq)[frame_shift:]))\n",
    "    orfs.append(re.findall(orf_pattern, transcribe2(rev_comp2(dna_seq))[frame_shift:]))\n",
    "\n",
    "print(set([translate2(seq) for seq in sum(orfs, [])]))"
   ]
  },
  {
   "cell_type": "markdown",
   "id": "da3776ec",
   "metadata": {},
   "source": [
    "**?= positive lookahead assertion** - dopasowane znaki nie zostaną zużyte, pozwoli to na wykrycie również nakładających się orf'ów."
   ]
  },
  {
   "cell_type": "markdown",
   "id": "3cb69f4c",
   "metadata": {},
   "source": [
    "### Rozwiązanie przy użyciu BioPython"
   ]
  },
  {
   "cell_type": "code",
   "execution_count": 83,
   "id": "f4302efa",
   "metadata": {},
   "outputs": [
    {
     "name": "stdout",
     "output_type": "stream",
     "text": [
      "{'MLLGSFRLIPKETLIQVAGSSPCNLS*', 'MTPRLGLESLLE*', 'MGMTPRLGLESLLE*', 'M*'}\n"
     ]
    }
   ],
   "source": [
    "from Bio.Seq import Seq\n",
    "\n",
    "seq = Seq(\"AGCCATGTAGCTAACTCAGGTTACATGGGGATGACCCCGCGACTTGGATTAGAGTCTCTTTTGGAATAAGCCTGAATGATCCGAGTAGCATCTCAG\")\n",
    "regex = \"(?=(M.*?\\*))\" # \\* bo * ma być traktowana jako zwykły symbol (\\ escape character)\n",
    "orfs = []\n",
    "\n",
    "for frame_shift in range(3):\n",
    "    orfs.append(re.findall(regex, str(seq.transcribe()[frame_shift:].translate()))) # można bezpośrednio translate..\n",
    "    orfs.append(re.findall(regex, str(seq.reverse_complement().transcribe()[frame_shift:].translate())))\n",
    "\n",
    "print(set(sum(orfs, []))) # sum(lista, []) połączy elementy list listy w liste elementów list listy ;)"
   ]
  },
  {
   "cell_type": "markdown",
   "id": "fb30bedb",
   "metadata": {},
   "source": [
    "Oczekiwane wyniki:\n",
    "\n",
    " * MLLGSFRLIPKETLIQVAGSSPCNLS\n",
    " * M\n",
    " * MGMTPRLGLESLLE\n",
    " * MTPRLGLESLLE"
   ]
  }
 ],
 "metadata": {
  "kernelspec": {
   "display_name": "Python 3 (ipykernel)",
   "language": "python",
   "name": "python3"
  },
  "language_info": {
   "codemirror_mode": {
    "name": "ipython",
    "version": 3
   },
   "file_extension": ".py",
   "mimetype": "text/x-python",
   "name": "python",
   "nbconvert_exporter": "python",
   "pygments_lexer": "ipython3",
   "version": "3.11.4"
  }
 },
 "nbformat": 4,
 "nbformat_minor": 5
}
