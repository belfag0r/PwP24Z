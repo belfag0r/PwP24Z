{
 "cells": [
  {
   "cell_type": "markdown",
   "id": "94c07a0d",
   "metadata": {},
   "source": [
    "# Programowanie funkcyjne i wyrażenia składane"
   ]
  },
  {
   "cell_type": "markdown",
   "id": "89e3ce7d",
   "metadata": {},
   "source": [
    "Zapoznamy się z słowami kluczowymi:\n",
    "\n",
    "* lambda, yield\n",
    "\n",
    "\n",
    "<br>\n",
    "\n",
    "\n",
    "oraz funkcjami wbudowanymi:\n",
    "\n",
    "* zip, map, filter, next\n",
    "\n",
    "<br>\n",
    "\n",
    "Przyjrzymy się również konstrukcji syntaktycznej wyrażeń składanych (list, słowników i zbiorów) oraz generatorom.\n",
    "\n",
    "<br>\n",
    "\n"
   ]
  },
  {
   "cell_type": "markdown",
   "id": "3a0be3d7",
   "metadata": {},
   "source": [
    "### Generatory"
   ]
  },
  {
   "cell_type": "markdown",
   "id": "7b611c29",
   "metadata": {},
   "source": [
    "Generator to iterator podlegający **wartościowaniu leniwemu**, zawiera on przepis na kolejny element, który zostanie obliczony jedynie na żądanie (jak najpóźniej) po wywołaniu funkcji *next*. Dzięki temu objekt taki **oszczędza pamięć**."
   ]
  },
  {
   "cell_type": "code",
   "execution_count": 1,
   "id": "30af60eb",
   "metadata": {},
   "outputs": [
    {
     "name": "stdout",
     "output_type": "stream",
     "text": [
      "48\n",
      "8000056\n"
     ]
    }
   ],
   "source": [
    "import sys\n",
    "\n",
    "\n",
    "generator = range(1000000)\n",
    "generator_no_longer = list(range(1000000))\n",
    "\n",
    "# rozmiar w bajtach\n",
    "\n",
    "print(sys.getsizeof(generator))\n",
    "print(sys.getsizeof(generator_no_longer))"
   ]
  },
  {
   "cell_type": "markdown",
   "id": "ea0a8051",
   "metadata": {},
   "source": [
    "Generatory możemy definiować na różne sposoby, w funkcjach wykorzystujemy instrukcję *yield* (niejako zamiast *return*)"
   ]
  },
  {
   "cell_type": "code",
   "execution_count": 2,
   "id": "d051ec6e",
   "metadata": {},
   "outputs": [
    {
     "name": "stdout",
     "output_type": "stream",
     "text": [
      "0 1 1 2 3 5 8 13 21 34 "
     ]
    }
   ],
   "source": [
    "def fibonacci():\n",
    "    \n",
    "    current, previous = 0, 1\n",
    "    \n",
    "    while True:\n",
    "        \n",
    "        yield current\n",
    "        \n",
    "        current, previous = current + previous, current\n",
    "\n",
    "        \n",
    "fib = fibonacci()\n",
    "\n",
    "\n",
    "for i in range(10):\n",
    "    print(next(fib), end=\" \")"
   ]
  },
  {
   "cell_type": "markdown",
   "id": "8a0d2ab2",
   "metadata": {},
   "source": [
    "lub poprzez wyrażenie generujące (w nawiasie okrągłym ())"
   ]
  },
  {
   "cell_type": "code",
   "execution_count": 3,
   "id": "79b6870d",
   "metadata": {},
   "outputs": [
    {
     "name": "stdout",
     "output_type": "stream",
     "text": [
      "1\n",
      "2\n"
     ]
    },
    {
     "ename": "StopIteration",
     "evalue": "",
     "output_type": "error",
     "traceback": [
      "\u001b[1;31m---------------------------------------------------------------------------\u001b[0m",
      "\u001b[1;31mStopIteration\u001b[0m                             Traceback (most recent call last)",
      "Cell \u001b[1;32mIn[3], line 6\u001b[0m\n\u001b[0;32m      4\u001b[0m \u001b[38;5;28mprint\u001b[39m(\u001b[38;5;28mnext\u001b[39m(x))\n\u001b[0;32m      5\u001b[0m \u001b[38;5;28mprint\u001b[39m(\u001b[38;5;28mnext\u001b[39m(x))\n\u001b[1;32m----> 6\u001b[0m \u001b[38;5;28mprint\u001b[39m(\u001b[38;5;28mnext\u001b[39m(x))\n",
      "\u001b[1;31mStopIteration\u001b[0m: "
     ]
    }
   ],
   "source": [
    "# to nie jest 'krotka składana' tylko generator..\n",
    "x = (i+1 for i in range(2))\n",
    "\n",
    "print(next(x))\n",
    "print(next(x))\n",
    "print(next(x))"
   ]
  },
  {
   "cell_type": "markdown",
   "id": "6726c5fc",
   "metadata": {},
   "source": [
    "**Uwaga!** Po elementach generatora można przeiterować się tylko raz (albo błąd StopIteration); nie można go również indeksować. Można natomiast przekazać mu wartość poprzez metodę *send()*"
   ]
  },
  {
   "cell_type": "code",
   "execution_count": 4,
   "id": "e8ade056",
   "metadata": {},
   "outputs": [
    {
     "name": "stdout",
     "output_type": "stream",
     "text": [
      "<class 'function'> <class 'generator'>\n"
     ]
    }
   ],
   "source": [
    "print(type(fibonacci), type(fib))"
   ]
  },
  {
   "cell_type": "markdown",
   "id": "6e3a5e7c",
   "metadata": {},
   "source": [
    "### Lambda - funkcje bezimienne"
   ]
  },
  {
   "cell_type": "markdown",
   "id": "3b9f2b04",
   "metadata": {},
   "source": [
    "Beznazwowe funkcje *inline* definiujemy przy użyciu słowa kluczowego **lambda** :\n",
    "\n",
    "            lambda <argumenty> : <wyrażenie>"
   ]
  },
  {
   "cell_type": "code",
   "execution_count": 5,
   "id": "a2837bcc",
   "metadata": {},
   "outputs": [
    {
     "data": {
      "text/plain": [
       "69"
      ]
     },
     "execution_count": 5,
     "metadata": {},
     "output_type": "execute_result"
    }
   ],
   "source": [
    "(lambda x, y : y + 2 * x)(34, 1)"
   ]
  },
  {
   "cell_type": "markdown",
   "id": "e3639153",
   "metadata": {},
   "source": [
    "To jest karygodne, ale jak najbardziej można.."
   ]
  },
  {
   "cell_type": "code",
   "execution_count": 6,
   "id": "ec511e3b",
   "metadata": {},
   "outputs": [
    {
     "name": "stdout",
     "output_type": "stream",
     "text": [
      "False\n",
      "False\n"
     ]
    }
   ],
   "source": [
    "f = lambda x : x % 2 == 0\n",
    "\n",
    "print(f(13))\n",
    "print(f(31))"
   ]
  },
  {
   "cell_type": "markdown",
   "id": "c07cd458",
   "metadata": {},
   "source": [
    "Tak również można ..."
   ]
  },
  {
   "cell_type": "code",
   "execution_count": 7,
   "id": "9a02f31a",
   "metadata": {},
   "outputs": [
    {
     "name": "stdout",
     "output_type": "stream",
     "text": [
      "3\n"
     ]
    }
   ],
   "source": [
    "x = (lambda x: \"1\" if x == 1 else(\"2\" if x == 2 else (\"3\" if x == 3 else \"pozdrawiam\")))(3)\n",
    "\n",
    "print(x)"
   ]
  },
  {
   "cell_type": "markdown",
   "id": "670a1041",
   "metadata": {},
   "source": [
    "### Funkcje wyższego rzędu map i filter"
   ]
  },
  {
   "cell_type": "markdown",
   "id": "c167a20a",
   "metadata": {},
   "source": [
    "*map* oraz *filter* zwracają generatory (również *zip*, *range*, *open*), czyli podlegają leniwemu wartościowaniu. Nazywamy je funkcjami wyższego rzędu, ponieważ za jeden z argumentów przyjmują inną funkcję, którą następnie wywołują dla wszystkich elementów podanej kolekcji (drugi argument)."
   ]
  },
  {
   "cell_type": "code",
   "execution_count": 8,
   "id": "a48f75e9",
   "metadata": {},
   "outputs": [
    {
     "name": "stdout",
     "output_type": "stream",
     "text": [
      "<map object at 0x0000025BBAA64FD0>\n"
     ]
    }
   ],
   "source": [
    "print(map(lambda x : x % 2 == 0, range(10)))"
   ]
  },
  {
   "cell_type": "code",
   "execution_count": 9,
   "id": "2d5ff21a",
   "metadata": {},
   "outputs": [
    {
     "data": {
      "text/plain": [
       "[True, False, True, False, True, False, True, False, True, False]"
      ]
     },
     "execution_count": 9,
     "metadata": {},
     "output_type": "execute_result"
    }
   ],
   "source": [
    "# żeby uzyskać wartości należy wyczerpać iterator\n",
    "list(map(lambda x : x % 2 == 0, range(10)))"
   ]
  },
  {
   "cell_type": "markdown",
   "id": "fbd9cba2",
   "metadata": {},
   "source": [
    "*filter* działa podobnie, aczkolwiek zwraca jedynie te elementy, dla których funkcja zwraca *True*"
   ]
  },
  {
   "cell_type": "code",
   "execution_count": 10,
   "id": "2fa50eba",
   "metadata": {},
   "outputs": [
    {
     "data": {
      "text/plain": [
       "[0, 2, 4, 6, 8]"
      ]
     },
     "execution_count": 10,
     "metadata": {},
     "output_type": "execute_result"
    }
   ],
   "source": [
    "list(filter(lambda x : x % 2 == 0, range(10)))"
   ]
  },
  {
   "cell_type": "markdown",
   "id": "fce73302",
   "metadata": {},
   "source": [
    "*filter* jest równoznaczne z generatorem (item for item in iterable if function(item))"
   ]
  },
  {
   "cell_type": "markdown",
   "id": "e14aaef7",
   "metadata": {},
   "source": [
    "Oczywiście nie musi to być funkcja *lambda*"
   ]
  },
  {
   "cell_type": "code",
   "execution_count": 11,
   "id": "d569a443",
   "metadata": {},
   "outputs": [
    {
     "data": {
      "text/plain": [
       "[1, 1, 4, 27, 256]"
      ]
     },
     "execution_count": 11,
     "metadata": {},
     "output_type": "execute_result"
    }
   ],
   "source": [
    "def moja_funkcja(x):\n",
    "    return x ** x\n",
    "\n",
    "list(map(moja_funkcja, range(5)))"
   ]
  },
  {
   "cell_type": "markdown",
   "id": "de4e875d",
   "metadata": {},
   "source": [
    "#### Problemy"
   ]
  },
  {
   "cell_type": "markdown",
   "id": "4c8c1d35",
   "metadata": {},
   "source": [
    "Leniwe wartościowanie i modyfikowalność (mutability)"
   ]
  },
  {
   "cell_type": "code",
   "execution_count": 5,
   "id": "da4b3b97",
   "metadata": {},
   "outputs": [
    {
     "name": "stdout",
     "output_type": "stream",
     "text": [
      "[1, 2, 3, 4, 5, 6, 7, 8, 9, 10]\n",
      "[]\n"
     ]
    }
   ],
   "source": [
    "def fun_1(x): \n",
    "    return x+1\n",
    "\n",
    "def fun_2(x):\n",
    "    return x+2\n",
    "\n",
    "\n",
    "y = map(fun_1, range(10))\n",
    "print(list(y))\n",
    "\n",
    "# o.O generator się zużył (przez list())\n",
    "print(list(map(fun_2, y)))"
   ]
  },
  {
   "cell_type": "code",
   "execution_count": 28,
   "id": "ce5eb74d",
   "metadata": {},
   "outputs": [
    {
     "name": "stdout",
     "output_type": "stream",
     "text": [
      "[2, 4, 12]\n"
     ]
    }
   ],
   "source": [
    "a = [1, 2, 3, 4]\n",
    "\n",
    "# UWAGA: generator - wartości zostaną obliczone jak najpóźniej..\n",
    "res = filter(lambda x : x % 2 == 0, a)\n",
    "\n",
    "a.append(11)\n",
    "a.append(12)\n",
    "\n",
    "print(list(res))"
   ]
  },
  {
   "cell_type": "markdown",
   "id": "40a60fd0",
   "metadata": {},
   "source": [
    "## Wyrażenia składane"
   ]
  },
  {
   "cell_type": "markdown",
   "id": "86bcb9a5",
   "metadata": {},
   "source": [
    "Pythonowo i zazwyczaj najszybsze (zalecane względem filter / map + lambda), aczkolwiek będą **wartościowane zachłannie** (od początku i przez cały czas istnieją w pamięci!)\n",
    "\n",
    "         list = [expression for item in iterable]"
   ]
  },
  {
   "cell_type": "markdown",
   "id": "96373af0",
   "metadata": {},
   "source": [
    "#### Tworzenie nowej listy"
   ]
  },
  {
   "cell_type": "code",
   "execution_count": 14,
   "id": "b9bded06",
   "metadata": {},
   "outputs": [
    {
     "name": "stdout",
     "output_type": "stream",
     "text": [
      "[1, 2, 3, 4, 5, 6, 7, 8, 9, 10]\n"
     ]
    }
   ],
   "source": [
    "new_numbers = []\n",
    "\n",
    "for x in range(10):\n",
    "    new_numbers.append(x+1)\n",
    "\n",
    "print(new_numbers)"
   ]
  },
  {
   "cell_type": "code",
   "execution_count": 15,
   "id": "ac23fa55",
   "metadata": {},
   "outputs": [
    {
     "name": "stdout",
     "output_type": "stream",
     "text": [
      "[1, 2, 3, 4, 5, 6, 7, 8, 9, 10]\n"
     ]
    }
   ],
   "source": [
    "new_numbers = [x+1 for x in range(10)]\n",
    "\n",
    "print(new_numbers)"
   ]
  },
  {
   "cell_type": "markdown",
   "id": "929ca1f9",
   "metadata": {},
   "source": [
    "#### Tworzenie nowej listy z instrukcją warunkową *if*"
   ]
  },
  {
   "cell_type": "code",
   "execution_count": 16,
   "id": "cb484940",
   "metadata": {},
   "outputs": [
    {
     "name": "stdout",
     "output_type": "stream",
     "text": [
      "[0, 2, 4, 6, 8, 10, 12, 14, 16, 18]\n"
     ]
    }
   ],
   "source": [
    "some_numbers_list = []\n",
    "\n",
    "for x in range(20):\n",
    "    if x % 2 == 0:\n",
    "        some_numbers_list.append(x)\n",
    "        \n",
    "print(some_numbers_list)"
   ]
  },
  {
   "cell_type": "code",
   "execution_count": 17,
   "id": "a7faabb1",
   "metadata": {},
   "outputs": [
    {
     "name": "stdout",
     "output_type": "stream",
     "text": [
      "[0, 2, 4, 6, 8, 10, 12, 14, 16, 18]\n"
     ]
    }
   ],
   "source": [
    "some_numbers_list = [x for x in range(20) if x % 2 == 0]\n",
    "\n",
    "print(some_numbers_list)"
   ]
  },
  {
   "cell_type": "markdown",
   "id": "29bb5005",
   "metadata": {},
   "source": [
    "#### Tworzenie nowej listy z instrukcjami warunkowymi if, else"
   ]
  },
  {
   "cell_type": "code",
   "execution_count": 18,
   "id": "c2f74765",
   "metadata": {},
   "outputs": [
    {
     "name": "stdout",
     "output_type": "stream",
     "text": [
      "[0, 66, 2, 66, 4, 66, 6, 66, 8, 66]\n"
     ]
    }
   ],
   "source": [
    "some_numbers_list = []\n",
    "\n",
    "for x in range(10):\n",
    "    if x % 2 == 0:\n",
    "        some_numbers_list.append(x)\n",
    "    else:\n",
    "        some_numbers_list.append(66)\n",
    "        \n",
    "print(some_numbers_list)"
   ]
  },
  {
   "cell_type": "code",
   "execution_count": 19,
   "id": "57a417e5",
   "metadata": {},
   "outputs": [
    {
     "name": "stdout",
     "output_type": "stream",
     "text": [
      "[0, 66, 2, 66, 4, 66, 6, 66, 8, 66]\n"
     ]
    }
   ],
   "source": [
    "some_numbers_list = [x if x % 2 == 0 else 66 for x in range(10)]\n",
    "\n",
    "print(some_numbers_list)"
   ]
  },
  {
   "cell_type": "markdown",
   "id": "d6bb43ee",
   "metadata": {},
   "source": [
    "#### Tworzenie nowej listy list"
   ]
  },
  {
   "cell_type": "code",
   "execution_count": 20,
   "id": "ace117ea",
   "metadata": {},
   "outputs": [
    {
     "name": "stdout",
     "output_type": "stream",
     "text": [
      "[[0, 1, 2], [0, 1, 2], [0, 1, 2]]\n"
     ]
    }
   ],
   "source": [
    "some_numbers_lists = []\n",
    "\n",
    "for i in range(3):\n",
    "    \n",
    "    list_i = []\n",
    "    \n",
    "    for j in range(3):\n",
    "        \n",
    "        list_i.append(j)\n",
    "        \n",
    "    some_numbers_lists.append(list_i)\n",
    "        \n",
    "print(some_numbers_lists)"
   ]
  },
  {
   "cell_type": "code",
   "execution_count": 21,
   "id": "aa7c4da8",
   "metadata": {},
   "outputs": [
    {
     "name": "stdout",
     "output_type": "stream",
     "text": [
      "[[0, 1, 2], [0, 1, 2], [0, 1, 2]]\n"
     ]
    }
   ],
   "source": [
    "some_numbers_lists = [[j for j in range(3)] for i in range(3)]\n",
    "\n",
    "print(some_numbers_lists)"
   ]
  },
  {
   "cell_type": "markdown",
   "id": "6e8b6edf",
   "metadata": {},
   "source": [
    "To samo możemy robić z zbiorami i słownikami"
   ]
  },
  {
   "cell_type": "code",
   "execution_count": 22,
   "id": "c8d11dd6",
   "metadata": {},
   "outputs": [
    {
     "name": "stdout",
     "output_type": "stream",
     "text": [
      "{1, 3, 5, 7, 9}\n"
     ]
    }
   ],
   "source": [
    "new_set = {x for x in range(10) if x % 2 != 0}\n",
    "\n",
    "print(new_set)"
   ]
  },
  {
   "cell_type": "code",
   "execution_count": 23,
   "id": "96309ed7",
   "metadata": {},
   "outputs": [
    {
     "name": "stdout",
     "output_type": "stream",
     "text": [
      "{11: 121, 12: 144, 13: 169, 14: 196, 15: 225, 16: 256, 17: 289, 18: 324, 19: 361}\n"
     ]
    }
   ],
   "source": [
    "new_dict = {x : x**2 for x in range(11, 20)}\n",
    "\n",
    "print(new_dict)"
   ]
  },
  {
   "cell_type": "markdown",
   "id": "fab57114",
   "metadata": {},
   "source": [
    "Funkcja *zip* zwraca generator krotek kolejnych elementów podanych jej za argumenty *iterables*."
   ]
  },
  {
   "cell_type": "code",
   "execution_count": 24,
   "id": "14447f8a",
   "metadata": {},
   "outputs": [
    {
     "name": "stdout",
     "output_type": "stream",
     "text": [
      "a 0\n",
      "b 1\n",
      "c 2\n",
      "d 3\n",
      "e 4\n",
      "f 5\n"
     ]
    }
   ],
   "source": [
    "a = ['a', 'b', 'c', 'd', 'e', 'f']\n",
    "b = list(range(6))\n",
    "\n",
    "for (x, y) in zip(a, b):\n",
    "    print(x, y)"
   ]
  },
  {
   "cell_type": "markdown",
   "id": "177289e5",
   "metadata": {},
   "source": [
    "Przydatna gdy np. chcemy stworzyć słownik ;)"
   ]
  },
  {
   "cell_type": "code",
   "execution_count": 25,
   "id": "83138b9b",
   "metadata": {},
   "outputs": [
    {
     "name": "stdout",
     "output_type": "stream",
     "text": [
      "{'a': 0, 'b': 1, 'c': 2, 'd': 3, 'e': 4, 'f': 5}\n"
     ]
    }
   ],
   "source": [
    "my_dict = dict(zip(a, b))\n",
    "\n",
    "print(my_dict)"
   ]
  },
  {
   "cell_type": "markdown",
   "id": "08f930c4",
   "metadata": {},
   "source": [
    "Ogólnie również:\n",
    "\n",
    "            new_dict = {key: value for key, value in zip(KEYS, VALUES)}"
   ]
  },
  {
   "cell_type": "markdown",
   "id": "559fed7c",
   "metadata": {},
   "source": [
    "Co jeżeli nasze *iterables* nie mają tej samej długości.. ?!"
   ]
  },
  {
   "cell_type": "code",
   "execution_count": 26,
   "id": "147b5495",
   "metadata": {},
   "outputs": [
    {
     "name": "stdout",
     "output_type": "stream",
     "text": [
      "{'a': 0, 'b': 1, 'c': 2}\n"
     ]
    }
   ],
   "source": [
    "a = ['a', 'b', 'c', 'd', 'e', 'f']\n",
    "b = list(range(3))\n",
    "\n",
    "my_dict = dict(zip(a, b))\n",
    "\n",
    "print(my_dict)"
   ]
  },
  {
   "cell_type": "code",
   "execution_count": 27,
   "id": "74d67fc0",
   "metadata": {},
   "outputs": [
    {
     "name": "stdout",
     "output_type": "stream",
     "text": [
      "zip(*iterables, strict=False) --> Yield tuples until an input is exhausted.\n",
      "\n",
      "   >>> list(zip('abcdefg', range(3), range(4)))\n",
      "   [('a', 0, 0), ('b', 1, 1), ('c', 2, 2)]\n",
      "\n",
      "The zip object yields n-length tuples, where n is the number of iterables\n",
      "passed as positional arguments to zip().  The i-th element in every tuple\n",
      "comes from the i-th iterable argument to zip().  This continues until the\n",
      "shortest argument is exhausted.\n",
      "\n",
      "If strict is true and one of the arguments is exhausted before the others,\n",
      "raise a ValueError.\n"
     ]
    }
   ],
   "source": [
    "print(zip.__doc__) # help(zip)"
   ]
  },
  {
   "cell_type": "markdown",
   "id": "1b1edf85",
   "metadata": {},
   "source": [
    "**Dekoratory** to funkcje pozwalające na zmianę zachowania uprzednio zdefiniowanych funkcji bez bezpośredniej modyfikacji ich kodu."
   ]
  },
  {
   "cell_type": "code",
   "execution_count": 25,
   "id": "ea2af05d",
   "metadata": {},
   "outputs": [],
   "source": [
    "import time\n",
    "\n",
    "def log_execution_time(func):\n",
    "    \n",
    "    def wrapper(*args, **kwargs):\n",
    "        start_time = time.perf_counter()\n",
    "        result = func(*args, **kwargs)\n",
    "        end_time = time.perf_counter()\n",
    "        print(f\"Function '{func.__name__}' executed in {end_time - start_time} seconds.\")\n",
    "        return result\n",
    "    \n",
    "    return wrapper\n",
    "\n",
    "@log_execution_time\n",
    "def gc_content(seq):\n",
    "    gc_count = seq.count('G') + seq.count('C')\n",
    "    return (gc_count / len(seq)) * 100\n",
    "\n",
    "@log_execution_time\n",
    "def reverse_complement(seq):\n",
    "    complement = {'A': 'T', 'T': 'A', 'G': 'C', 'C': 'G'}\n",
    "    return ''.join(complement[base] for base in reversed(seq))"
   ]
  },
  {
   "cell_type": "code",
   "execution_count": 26,
   "id": "35239c61",
   "metadata": {},
   "outputs": [
    {
     "name": "stdout",
     "output_type": "stream",
     "text": [
      "Function 'gc_content' executed in 2.5000044843181968e-06 seconds.\n",
      "GC Content: 52.38%\n",
      "Function 'reverse_complement' executed in 9.099996532313526e-06 seconds.\n",
      "Reverse Complement: CGATCGTACGCTAGCTAGCAT\n"
     ]
    }
   ],
   "source": [
    "dna_seq = \"ATGCTAGCTAGCGTACGATCG\"\n",
    "\n",
    "gc = gc_content(dna_seq)\n",
    "print(f\"GC Content: {gc:.2f}%\")\n",
    "\n",
    "rev_comp = reverse_complement(dna_seq)\n",
    "print(f\"Reverse Complement: {rev_comp}\")"
   ]
  },
  {
   "cell_type": "markdown",
   "id": "adf11b00",
   "metadata": {},
   "source": [
    "Można zastosować kilka dekoratorów jednocześnie:"
   ]
  },
  {
   "cell_type": "code",
   "execution_count": 27,
   "id": "14a170da",
   "metadata": {},
   "outputs": [
    {
     "name": "stdout",
     "output_type": "stream",
     "text": [
      "Proszę.\n",
      "3738493.194844967\n",
      "Function 'calc_sth' executed in 0.03831200000422541 seconds.\n",
      "Dziękuję.\n"
     ]
    }
   ],
   "source": [
    "def kulturalnie(func):\n",
    "    def wrapper(*args, **kwargs):\n",
    "        print(\"Proszę.\") \n",
    "        func(*args, **kwargs) \n",
    "        print(\"Dziękuję.\") \n",
    "    return wrapper\n",
    "\n",
    "@kulturalnie\n",
    "@log_execution_time\n",
    "def calc_sth():\n",
    "    x = 0\n",
    "    for i in range(1, 1000):\n",
    "        for j in range(1, 1000):\n",
    "            x += i/j\n",
    "    print(x)\n",
    "\n",
    "calc_sth()"
   ]
  },
  {
   "cell_type": "markdown",
   "id": "606589d9",
   "metadata": {},
   "source": [
    "## Zadania"
   ]
  },
  {
   "cell_type": "markdown",
   "id": "076bd0b3",
   "metadata": {},
   "source": [
    "**Zadanie 1.** Przekształć zmienną *table_data* na słownik o postaci {kodon : aminokwas} (czyli {\"UUU\" : \"F\", ...). Możliwe jest dwulinijkowe rozwiązanie."
   ]
  },
  {
   "cell_type": "code",
   "execution_count": 2,
   "id": "d59e95aa",
   "metadata": {},
   "outputs": [],
   "source": [
    "table_data = \"\"\"\n",
    "UUU F      CUU L      AUU I      GUU V\n",
    "UUC F      CUC L      AUC I      GUC V\n",
    "UUA L      CUA L      AUA I      GUA V\n",
    "UUG L      CUG L      AUG M      GUG V\n",
    "UCU S      CCU P      ACU T      GCU A\n",
    "UCC S      CCC P      ACC T      GCC A\n",
    "UCA S      CCA P      ACA T      GCA A\n",
    "UCG S      CCG P      ACG T      GCG A\n",
    "UAU Y      CAU H      AAU N      GAU D\n",
    "UAC Y      CAC H      AAC N      GAC D\n",
    "UAA Stop   CAA Q      AAA K      GAA E\n",
    "UAG Stop   CAG Q      AAG K      GAG E\n",
    "UGU C      CGU R      AGU S      GGU G\n",
    "UGC C      CGC R      AGC S      GGC G\n",
    "UGA Stop   CGA R      AGA R      GGA G\n",
    "UGG W      CGG R      AGG R      GGG G\n",
    "\"\"\""
   ]
  },
  {
   "cell_type": "markdown",
   "id": "0e293285",
   "metadata": {},
   "source": [
    "**Zadanie 2.** Zamień poniższy kod na listę składaną."
   ]
  },
  {
   "cell_type": "code",
   "execution_count": null,
   "id": "6cf318cd",
   "metadata": {},
   "outputs": [],
   "source": [
    "bo_tak = []\n",
    "\n",
    "for i in range(4):\n",
    "    \n",
    "    if i % 2 != 0:\n",
    "        \n",
    "        list_i = []\n",
    "        \n",
    "        for j in range(4):\n",
    "            \n",
    "            if j % 2 == 0:\n",
    "                list_i.append(j+1)\n",
    "                \n",
    "            else:\n",
    "                list_i.append(69)\n",
    "                \n",
    "        bo_tak.append(list_i)\n",
    "        \n",
    "    else:\n",
    "        bo_tak.append(420)"
   ]
  },
  {
   "cell_type": "markdown",
   "id": "5438c9c2",
   "metadata": {},
   "source": [
    "**Zadanie 3.** Napisz funkcję, która przyjmuje dwa ciągi znaków i oblicza dla nich odległość Hamminga (zlicza != pomiędzy nimi na kolejnych pozycjach). Możliwe jest zwracanie jednolinijkowego wyrażenia."
   ]
  },
  {
   "cell_type": "markdown",
   "id": "ddb48c69",
   "metadata": {},
   "source": [
    "**Zadanie 4.** Napisz funkcję, która zwraca generator, który tłumaczy zadaną sekwencję RNA na aminokwasową (wywołanie *next()* zwrca przetłumaczony kolejny kodon). Skorzystaj z słownika z zadania 1."
   ]
  },
  {
   "cell_type": "markdown",
   "id": "56ac87ed",
   "metadata": {},
   "source": [
    "**Zadanie 5.** Utwórz listę pierwiastków liczb nieparzystych z przedziału [0, 20] na dwa sposoby: map / filter oraz lista składana."
   ]
  }
 ],
 "metadata": {
  "kernelspec": {
   "display_name": "Python 3 (ipykernel)",
   "language": "python",
   "name": "python3"
  },
  "language_info": {
   "codemirror_mode": {
    "name": "ipython",
    "version": 3
   },
   "file_extension": ".py",
   "mimetype": "text/x-python",
   "name": "python",
   "nbconvert_exporter": "python",
   "pygments_lexer": "ipython3",
   "version": "3.11.4"
  }
 },
 "nbformat": 4,
 "nbformat_minor": 5
}
