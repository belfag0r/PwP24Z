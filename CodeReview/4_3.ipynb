{
 "cells": [
  {
   "cell_type": "code",
   "execution_count": 8,
   "id": "4afb38c1",
   "metadata": {},
   "outputs": [],
   "source": [
    "import random"
   ]
  },
  {
   "cell_type": "code",
   "execution_count": 21,
   "id": "f9221d9a",
   "metadata": {},
   "outputs": [
    {
     "name": "stdout",
     "output_type": "stream",
     "text": [
      "CTGCGTTCAGGAGCGCTAGCACGCATCAACATCACAATCTAAGCGGACAAAGTCTGAGTCAAGCAGTTCCCTGAGCTGGGCGGAACGGTCGAACACTAATAGGCTAATTGCCGTAGTTTGCAAGCTCTGGCGTCAAAGGTTCCTCCGGCCGCCATCAACGATGTGGCCAGAATTAATGTAAGGGACACCGGGAGACGCAACGGAAATGATCCGCTGTAGTGAGACTCCAAAGGCAACGTGGCAAATGCCGTAATCCCCGTAGTAGTGGGACCTCAAGACCTGTCCCCTGTAGTGTAGTAATTCCAATAGCATTTATGCGTCCTAGTGACGGGTGGGCCCTCGTACTGACGTCAGACACGCTTGGTTTTAACCGTAGCACACGTTTCCGTCCCAATCGCCGGATAAAGGGAGTAGCAAAGAGATTTCATGAAGTGATTCACGTTCGTCGCACGTCGTTTCTACTAACTGTGCACCGTCCTCTTGGCGGGTAATTTCCATCCGCGCGTGTTGCCGCTCCACAAATTGCCTCCGAGTTGCACGTGACCAGTAGTGTTGCACCTTTTAAGAGCTAAAACTGGATTAGGGCTTGAATTTCGGCCGGCGCCCTGACAGGTCCTGTCCAAGCTGTGGTGAGTCTATATCTGTTCTGTCCCCATCGCGGCCAGTGGCCCCTGCGGTCCATTCTGAACCGTCGCGGGTGAAGGTCGGACACAAAAGGACGCAGGCGGACGAAGCTAGTTTTATATTCTGCGAAAAATTAGGTAACATCCACTGACATGTCGTCCCTGGAAACGTAAATAGTAAAACGCTAACCGGCCCAGAGTTCGGTTTGACCCTGTTCAGCTAGGTACCACAGTTTTCAGCAACAACACCGAAGTTCTTGCATTCTGTCGGCAGGCTAAGAAGGAGAATTTCCAGTAATATATGCCGCTCATGGGTCAAAGTCATAGACGAGGCAAGCACATGTGCGAGCAAGACGATGTGTTGTCTAAGACTCACT\n"
     ]
    }
   ],
   "source": [
    "N = 1000\n",
    "seq = \"\".join(random.choices(\"ATCG\", k=N))\n",
    "print(seq)\n",
    "seq2 = seq + \"X\""
   ]
  },
  {
   "cell_type": "code",
   "execution_count": 13,
   "id": "2d5b16bd",
   "metadata": {},
   "outputs": [],
   "source": [
    "def count_bases1(sequence):\n",
    "    valid_bases = {'A', 'T', 'C', 'G'}\n",
    "    counts = {'A': 0, 'T': 0, 'C': 0, 'G': 0}\n",
    "    for base in sequence:\n",
    "        if base not in valid_bases:\n",
    "            raise ValueError(f\"Nieprawidłowy znak w sekwencji: {base}\")\n",
    "        counts[base] += 1\n",
    "        \n",
    "    return counts"
   ]
  },
  {
   "cell_type": "code",
   "execution_count": 17,
   "id": "9a9575d9",
   "metadata": {},
   "outputs": [
    {
     "name": "stdout",
     "output_type": "stream",
     "text": [
      "106 µs ± 8.49 µs per loop (mean ± std. dev. of 7 runs, 10,000 loops each)\n"
     ]
    }
   ],
   "source": [
    "%%timeit\n",
    "count_bases1(seq)"
   ]
  },
  {
   "cell_type": "code",
   "execution_count": 26,
   "id": "5e943f8d",
   "metadata": {},
   "outputs": [
    {
     "name": "stdout",
     "output_type": "stream",
     "text": [
      "95.8 µs ± 7.86 µs per loop (mean ± std. dev. of 7 runs, 10,000 loops each)\n"
     ]
    }
   ],
   "source": [
    "%%timeit\n",
    "try:\n",
    "    count_bases1(seq2)\n",
    "    \n",
    "except ValueError:\n",
    "    pass"
   ]
  },
  {
   "cell_type": "code",
   "execution_count": 14,
   "id": "36b9cf29",
   "metadata": {},
   "outputs": [],
   "source": [
    "def count_bases2(sequence):\n",
    "    valid_bases = {'A', 'T', 'C', 'G'}\n",
    "    counts = {'A': 0, 'T': 0, 'C': 0, 'G': 0}\n",
    "    \n",
    "    if valid_bases == set([*sequence]):\n",
    "        for base in sequence:\n",
    "            counts[base] += 1\n",
    "    else:\n",
    "        raise ValueError(f\"Nieprawidłowy znak w sekwencji: {sequence}\")\n",
    "        \n",
    "    return counts"
   ]
  },
  {
   "cell_type": "code",
   "execution_count": 18,
   "id": "ceb58dfc",
   "metadata": {},
   "outputs": [
    {
     "name": "stdout",
     "output_type": "stream",
     "text": [
      "107 µs ± 7.14 µs per loop (mean ± std. dev. of 7 runs, 10,000 loops each)\n"
     ]
    }
   ],
   "source": [
    "%%timeit\n",
    "count_bases2(seq)"
   ]
  },
  {
   "cell_type": "code",
   "execution_count": 27,
   "id": "be5aa7dc",
   "metadata": {},
   "outputs": [
    {
     "name": "stdout",
     "output_type": "stream",
     "text": [
      "18.2 µs ± 1.58 µs per loop (mean ± std. dev. of 7 runs, 100,000 loops each)\n"
     ]
    }
   ],
   "source": [
    "%%timeit\n",
    "try:\n",
    "    count_bases2(seq2)\n",
    "    \n",
    "except ValueError:\n",
    "    pass"
   ]
  },
  {
   "cell_type": "code",
   "execution_count": 15,
   "id": "c4348e6e",
   "metadata": {},
   "outputs": [],
   "source": [
    "def count_bases3(sequence):\n",
    "    valid_bases = {'A', 'T', 'C', 'G'}\n",
    "    counts = {'A': 0, 'T': 0, 'C': 0, 'G': 0}\n",
    "    \n",
    "    assert valid_bases == set([*sequence])\n",
    "    \n",
    "    for base in sequence:\n",
    "        counts[base] += 1\n",
    "        \n",
    "    return counts"
   ]
  },
  {
   "cell_type": "code",
   "execution_count": 19,
   "id": "21ad7af5",
   "metadata": {},
   "outputs": [
    {
     "name": "stdout",
     "output_type": "stream",
     "text": [
      "107 µs ± 5 µs per loop (mean ± std. dev. of 7 runs, 10,000 loops each)\n"
     ]
    }
   ],
   "source": [
    "%%timeit\n",
    "count_bases3(seq)"
   ]
  },
  {
   "cell_type": "code",
   "execution_count": 31,
   "id": "f27965ee",
   "metadata": {},
   "outputs": [
    {
     "name": "stdout",
     "output_type": "stream",
     "text": [
      "16.3 µs ± 856 ns per loop (mean ± std. dev. of 7 runs, 100,000 loops each)\n"
     ]
    }
   ],
   "source": [
    "%%timeit\n",
    "try:\n",
    "    count_bases3(seq2)\n",
    "    \n",
    "except AssertionError:\n",
    "    pass"
   ]
  },
  {
   "cell_type": "code",
   "execution_count": 16,
   "id": "87140c9e",
   "metadata": {},
   "outputs": [],
   "source": [
    "def count_bases4(sequence):\n",
    "    valid_bases = {'A', 'T', 'C', 'G'}\n",
    "    assert valid_bases == set([*sequence])\n",
    "    \n",
    "    return {N: sequence.count(N) for N in \"ATCG\"}"
   ]
  },
  {
   "cell_type": "code",
   "execution_count": 20,
   "id": "c0302a00",
   "metadata": {},
   "outputs": [
    {
     "name": "stdout",
     "output_type": "stream",
     "text": [
      "18.5 µs ± 1.9 µs per loop (mean ± std. dev. of 7 runs, 10,000 loops each)\n"
     ]
    }
   ],
   "source": [
    "%%timeit\n",
    "count_bases4(seq)"
   ]
  },
  {
   "cell_type": "code",
   "execution_count": 32,
   "id": "02c2342b",
   "metadata": {},
   "outputs": [
    {
     "name": "stdout",
     "output_type": "stream",
     "text": [
      "16 µs ± 936 ns per loop (mean ± std. dev. of 7 runs, 100,000 loops each)\n"
     ]
    }
   ],
   "source": [
    "%%timeit\n",
    "try:\n",
    "    count_bases4(seq2)\n",
    "    \n",
    "except AssertionError:\n",
    "    pass"
   ]
  }
 ],
 "metadata": {
  "kernelspec": {
   "display_name": "Python 3 (ipykernel)",
   "language": "python",
   "name": "python3"
  },
  "language_info": {
   "codemirror_mode": {
    "name": "ipython",
    "version": 3
   },
   "file_extension": ".py",
   "mimetype": "text/x-python",
   "name": "python",
   "nbconvert_exporter": "python",
   "pygments_lexer": "ipython3",
   "version": "3.11.4"
  }
 },
 "nbformat": 4,
 "nbformat_minor": 5
}
