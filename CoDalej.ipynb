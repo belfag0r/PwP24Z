{
 "cells": [
  {
   "cell_type": "markdown",
   "id": "5a84ae66",
   "metadata": {},
   "source": [
    "# Podstawy warsztatu analizy danych\n",
    "\n",
    "\n",
    "\n",
    "\n",
    "### [Numpy](https://numpy.org/) Numeryczne operacje na wielowymiarowych tablicach.\n",
    " * [sympy](https://www.sympy.org/en/index.html) Obliczenia symboliczne.\n",
    "### [Pandas](https://pandas.pydata.org/) Przetwarzanie danych tabelarycznych.\n",
    "### [Scipy](https://scipy.org/) Obliczenia naukowe.\n",
    "### [Scikit-learn](https://scikit-learn.org/stable/) Klasyczne algorytmy uczenia maszynowego.\n",
    "### [Matplotlib](https://matplotlib.org/) Tworzenia wykresów i wizualizacji danych.\n",
    " * [Seaborn](https://seaborn.pydata.org/) Estetyczna wizualizacja danych.\n",
    " * [Bokeh](https://bokeh.org/) Interaktywne wizualizacje danych.\n",
    "### [NetworkX](https://networkx.org/) Przetwarzanie i analiza grafów.\n",
    "### [PyTorch](https://pytorch.org/) Właściwa biblioteka do uczenia głębokiego."
   ]
  },
  {
   "cell_type": "markdown",
   "id": "8a37a70c",
   "metadata": {},
   "source": [
    "## Akceleratory obliczeń\n",
    "\n",
    " * [Numba](https://numba.pydata.org/) Kompilacja JIT Pythona do kodu maszynowego (często wystarczy jedynie dodać dekorator).\n",
    " * [CuPy](https://cupy.dev/) Obliczenia numeryczne na GPU (à la numpy).\n",
    " * [Dusk](https://docs.dask.org/en/stable/) Równoległe i rozproszone przetwarzanie np. dla Pandas.\n",
    " * [Jax](https://github.com/jax-ml/jax) Obliczenia numeryczne na GPU (à la numpy).\n",
    "\n",
    "CuPy było pierwsze a JAX to pomiot Google."
   ]
  },
  {
   "cell_type": "markdown",
   "id": "9b8370c8",
   "metadata": {},
   "source": [
    "# Bioinformatyka\n",
    "\n",
    "### [Biopython](https://biopython.org/) Król.\n",
    " * [scikit-bio](https://scikit.bio/)\n",
    " * [biotite](https://www.biotite-python.org/latest/)\\\n",
    " Różne projekty próbują na swój sposób zaoferować funkcjonalność Biopythona, ale zwykle nie mają stabilnego wsparcia.\n",
    "\n",
    "#### [COBRApy](https://opencobra.github.io/cobrapy/) Modelowanie metaboliczne - (flux balance analysis).\n",
    "#### [etetoolkit](http://etetoolkit.org/) Analizy filogenetyczne.\n",
    "#### [goatools](https://github.com/tanghaibao/goatools) Analiza znaczników ontoloicznych (GO terms).\n",
    "#### [biopandas](https://biopandas.github.io/biopandas/) Pandas dedykowane przetwarzaniu struktur białek.\n",
    "#### [RDKit](https://github.com/rdkit/rdkit) Zestaw narzędzi chemioinformatycznych (przydatny przy 'pracy z lekami').\n",
    "#### [scanpy](https://scanpy.readthedocs.io/en/stable/index.html) Przetwarzanie danych z scRNAseq.\n",
    "#### [EVcouplings](https://github.com/debbiemarkslab/EVcouplings) Analiza kowariancji sekwencji.\n",
    "#### [BioServices](https://bioservices.readthedocs.io/en/main/) Interakcja z publicznymi bazami danych (makładka na ok. 40 REST API itd.)\n",
    "\n",
    "#### [Pysam](https://github.com/pysam-developers/pysam) Manipulacja danych z sekwencjonowania (SAM, BAM, VCF).\n",
    "#### [pybedtools](https://daler.github.io/pybedtools/) Opracje na genomach (BAM, BED, GFF, VCF)."
   ]
  },
  {
   "cell_type": "markdown",
   "id": "a64e954e",
   "metadata": {},
   "source": [
    "[Edinburgh Genome Foundry](https://edinburgh-genome-foundry.github.io/) Kolekcja ciekawych bibliotek.\n",
    "\n",
    " * [DNA Features Viewer](https://github.com/Edinburgh-Genome-Foundry/DnaFeaturesViewer) Wizualizacja adnotacji genu."
   ]
  },
  {
   "cell_type": "markdown",
   "id": "46eae473",
   "metadata": {},
   "source": [
    "## Modelowanie metaboliczne\n",
    "\n",
    " * [MASSpy](https://masspy.readthedocs.io/en/latest/) Symulacja i analiza kinetycznych modeli biochemicznych sieci reakcyjnych.\n",
    " * [kappy](https://github.com/Kappa-Dev/KappaTools) Język interakcji białkowych, rule-based modeling.\n",
    " * [PySB](https://pysb.org/) Modelowanie systemowe.\n",
    " * [ECell](https://ecell4.e-cell.org/index.html) Symulacje układów biologicznych raczej do celów edukacyjnych.\n",
    " * [Escher](https://escher.github.io/) Interaktywne wizualizacje modeli metabolicznych."
   ]
  },
  {
   "cell_type": "markdown",
   "id": "c06879f2",
   "metadata": {},
   "source": [
    "## Inne\n",
    " * [SQLAlchemy](https://www.sqlalchemy.org/) Interakcja z Bazami danych SQL.\n",
    " * [Mesa](https://mesa.readthedocs.io/stable/) Modelowanie agentowe.\n",
    " * [DEAP](https://deap.readthedocs.io/en/master/) Algorytmy ewolucyjne.\n",
    " * [Evotorch](https://evotorch.ai/) Algorytmy ewolucyjne również na GPU.\n",
    " * [Gudhi](https://github.com/GUDHI/gudhi-devel) Topologiczna analiza danych."
   ]
  },
  {
   "cell_type": "markdown",
   "id": "efb36219",
   "metadata": {},
   "source": [
    "**Zadanie 1.**\n",
    "[Rosalind](https://rosalind.info/) Zadania bioinformatyczne.\n",
    "\n",
    "**Zadanie 2.**\n",
    "[Kaggle](https://www.kaggle.com/) Konkursy i kursy uczenia maszynowego."
   ]
  }
 ],
 "metadata": {
  "kernelspec": {
   "display_name": "Python 3 (ipykernel)",
   "language": "python",
   "name": "python3"
  },
  "language_info": {
   "codemirror_mode": {
    "name": "ipython",
    "version": 3
   },
   "file_extension": ".py",
   "mimetype": "text/x-python",
   "name": "python",
   "nbconvert_exporter": "python",
   "pygments_lexer": "ipython3",
   "version": "3.11.4"
  }
 },
 "nbformat": 4,
 "nbformat_minor": 5
}
