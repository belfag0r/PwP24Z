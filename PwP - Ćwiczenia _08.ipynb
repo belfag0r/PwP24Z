{
 "cells": [
  {
   "cell_type": "markdown",
   "id": "c6274cd9",
   "metadata": {},
   "source": [
    "# OS SYS GLOB DATETIME"
   ]
  },
  {
   "cell_type": "markdown",
   "id": "861aa34c",
   "metadata": {},
   "source": [
    "Zapoznamy się z modułami biblioteki standardowej:\n",
    "\n",
    "* os, sys, glob oraz datetime\n",
    "\n",
    "<br>\n",
    "\n",
    "\n",
    "A w szczególności:\n",
    "\n",
    "*  OS\n",
    "    * getcwd, mkdir, chdir, listdir, remove, rmdir, rename, getpid, kill\n",
    "    \n",
    "    * os.path - dirname, basename, join, isfile, isdir, splitext\n",
    "\n",
    "<br>\n",
    "\n",
    "* SYS\n",
    "    * argv, maxsize, getsizeof, modules, exit\n",
    "    \n",
    "<br>\n",
    "\n",
    "* DATETIME\n",
    "    * datetime\n",
    "\n",
    "\n",
    "<br>\n"
   ]
  },
  {
   "cell_type": "markdown",
   "id": "e487f835",
   "metadata": {},
   "source": [
    "## OS\n",
    "Moduł zawiera abstrakcję funkcji zależnych od systemu operacyjnego."
   ]
  },
  {
   "cell_type": "markdown",
   "id": "868db59e",
   "metadata": {},
   "source": [
    "* getcwd: zwraca string do bieżącego katalogu roboczego\n",
    "* mkdir: utwórz nowy folder w zadanej lokalizacji\n",
    "* chdir: zmiana bieżącego katalogu roboczego na zodaną lokalizację\n",
    "* listdir: zwraca listę zawierającą nazwy plików w katalogu\n",
    "* remove: usówa plik\n",
    "* rmdir: usówa folder\n",
    "* rename: zmiana nazwy pliku\n",
    "* getpid: zwraca id procesu\n",
    "* kill: zabija program o podanym *pid*"
   ]
  },
  {
   "cell_type": "markdown",
   "id": "fb0d3419",
   "metadata": {},
   "source": [
    "## os.path\n",
    "Moduł zawiera funkcjonalność przydatnych operacji na ścieżkach plików (ale **lepiej skorzystać z pathlib..**), które taktuje jako zmienne tekstowe."
   ]
  },
  {
   "cell_type": "markdown",
   "id": "e653fd0a",
   "metadata": {},
   "source": [
    "* dirname: zwraca nazwę folderu z ścieżki\n",
    "* basename: zwraca ostatni człon ścieżki\n",
    "* join: zwraca string złączonych części ścieżki\n",
    "* isfile: sprawdza czy ścieżka jest plikiem\n",
    "* isdir: sprawdza czy ścieżka jest folderem\n",
    "* splitext: zwraca krotkę dzieląc ścieżkę na ostatniej kropce (root, extension)"
   ]
  },
  {
   "cell_type": "code",
   "execution_count": 1,
   "id": "4ca30249",
   "metadata": {
    "scrolled": false
   },
   "outputs": [
    {
     "name": "stdout",
     "output_type": "stream",
     "text": [
      "C:\\Users\\woyde\\Documents\\PhD\\Dydaktyka\\3\n",
      "konta\n",
      "lista_24_25Z_WBT-BFMK3_3_CW_3\n",
      "lista_24_25Z_WBT-BFMK3_3_CW_4\n",
      "Test_praktyczny 1\n",
      "C:\\Users\\woyde\\Documents\\PhD\\Dydaktyka\\3\\Untitled.ipynb 22711\n"
     ]
    }
   ],
   "source": [
    "import os\n",
    "\n",
    "root = os.getcwd()\n",
    "\n",
    "print(root)\n",
    "\n",
    "for p in os.listdir():\n",
    "    \n",
    "    if os.path.isfile(p):\n",
    "        \n",
    "        name, extension = os.path.splitext(p)\n",
    "\n",
    "        if extension == \".pdf\":\n",
    "            print(name)\n",
    "            \n",
    "abs_path = os.path.join(root, name + extension)\n",
    "\n",
    "print(abs_path, os.path.getsize(abs_path))"
   ]
  },
  {
   "cell_type": "markdown",
   "id": "fee196ec",
   "metadata": {},
   "source": [
    "## Pathlib\n",
    "\n",
    "Pathlib traktuje ścieżki obiektowo. **Oprator / jest przeładowany**, ostateczne zwracana ścieżka zostanie dopasowana do platformy."
   ]
  },
  {
   "cell_type": "code",
   "execution_count": 2,
   "id": "492ed338",
   "metadata": {},
   "outputs": [
    {
     "name": "stdout",
     "output_type": "stream",
     "text": [
      "C:\\Users\\woyde\\Documents\\PhD\\Dydaktyka\\3\\folder False\n",
      "True\n",
      "False\n",
      "C:\\Users\\woyde\\Documents\\PhD\\Dydaktyka\\3\\folder\\plik.txt True\n",
      "ez\n"
     ]
    }
   ],
   "source": [
    "from pathlib import Path\n",
    "\n",
    "# dir(Path)\n",
    "\n",
    "path = Path.cwd() / \"folder\"\n",
    "path.resolve() # utworzy ścieżkę bezwzględną z względnej\n",
    "\n",
    "print(path, path.exists())\n",
    "path.mkdir()\n",
    "print(path.is_dir())\n",
    "\n",
    "path = path / \"plik.txt\"\n",
    "print(path.is_file())\n",
    "path.touch()\n",
    "print(path, path.exists())\n",
    "\n",
    "path.write_text(\"ez\")\n",
    "print(path.read_text())"
   ]
  },
  {
   "cell_type": "code",
   "execution_count": 3,
   "id": "dcede48b",
   "metadata": {},
   "outputs": [
    {
     "name": "stdout",
     "output_type": "stream",
     "text": [
      ".txt ('C:\\\\', 'Users', 'woyde', 'Documents', 'PhD', 'Dydaktyka', '3', 'folder', 'plik.txt')\n"
     ]
    }
   ],
   "source": [
    "print(path.suffix, path.parts) # itd."
   ]
  },
  {
   "cell_type": "code",
   "execution_count": 5,
   "id": "83e418b3",
   "metadata": {},
   "outputs": [
    {
     "name": "stdout",
     "output_type": "stream",
     "text": [
      "('C:\\\\', 'Users', 'woyde', 'Documents', 'PhD', 'Dydaktyka', '3', '.ipynb_checkpoints')\n",
      "('C:\\\\', 'Users', 'woyde', 'Documents', 'PhD', 'Dydaktyka', '3', 'folder')\n",
      "('C:\\\\', 'Users', 'woyde', 'Documents', 'PhD', 'Dydaktyka', '3', 'gr3')\n",
      "('C:\\\\', 'Users', 'woyde', 'Documents', 'PhD', 'Dydaktyka', '3', 'gr4')\n",
      "('C:\\\\', 'Users', 'woyde', 'Documents', 'PhD', 'Dydaktyka', '3', 'Nowy folder')\n"
     ]
    }
   ],
   "source": [
    "path = Path.cwd()\n",
    "\n",
    "for child in path.iterdir():\n",
    "    if child.is_dir():\n",
    "        print(child.parts) # zwracane obiekty są już obiektami klasy Path"
   ]
  },
  {
   "cell_type": "markdown",
   "id": "edbfc4fd",
   "metadata": {},
   "source": [
    "## GLOB"
   ]
  },
  {
   "cell_type": "code",
   "execution_count": 6,
   "id": "9629dade",
   "metadata": {},
   "outputs": [
    {
     "name": "stdout",
     "output_type": "stream",
     "text": [
      "Złapano: konta.pdf\n",
      "Złapano: lista_24_25Z_WBT-BFMK3_3_CW_3.pdf\n",
      "Złapano: lista_24_25Z_WBT-BFMK3_3_CW_4.pdf\n",
      "Złapano: Test_praktyczny 1.pdf\n"
     ]
    }
   ],
   "source": [
    "import glob\n",
    "\n",
    "for pdf_file in glob.glob(\"*.pdf\"):\n",
    "    print(f\"Złapano: {pdf_file}\")"
   ]
  },
  {
   "cell_type": "markdown",
   "id": "a9f658c0",
   "metadata": {},
   "source": [
    "##### Dopuszczalne 'dzikie karty'\n",
    "? pojedyńczy znak\\\n",
    "\\* zero lub więcej znaków\\\n",
    "\\[\\] dowolny znak z listy"
   ]
  },
  {
   "cell_type": "markdown",
   "id": "01e474fa",
   "metadata": {},
   "source": [
    "### Pathlib z glob"
   ]
  },
  {
   "cell_type": "code",
   "execution_count": 7,
   "id": "0ee7d945",
   "metadata": {},
   "outputs": [
    {
     "data": {
      "text/plain": [
       "[WindowsPath('C:/Users/woyde/Documents/PhD/Dydaktyka/3/test.py')]"
      ]
     },
     "execution_count": 7,
     "metadata": {},
     "output_type": "execute_result"
    }
   ],
   "source": [
    "sorted(path.glob('*.py')) # zwórcone scieżki będą od razu obiektami klasy Path nvm"
   ]
  },
  {
   "cell_type": "code",
   "execution_count": null,
   "id": "8ce24a86",
   "metadata": {},
   "outputs": [],
   "source": [
    "# Pathlib również do przenoszenia plików \n",
    "\n",
    "# zamiast\n",
    "import shutil\n",
    "\n",
    "# i\n",
    "shutil.move(file_name, new_path)\n",
    "\n",
    "# można\n",
    "Path.replace(new_path)"
   ]
  },
  {
   "cell_type": "markdown",
   "id": "cd3d4abe",
   "metadata": {},
   "source": [
    "## SYS\n",
    "Dostęp do zmiennych interpretera i funkcji zmieniających jego stany."
   ]
  },
  {
   "cell_type": "markdown",
   "id": "a0dd4379",
   "metadata": {},
   "source": [
    "* argv: umożliwia dostęp do listy argumentów podanych przy wywoływaniu skryptu (**lepiej moduł *argparse***)\n",
    "* maxsize: maksymalny rozmiar wskaźnika systemu\n",
    "* getsizeof: rozmiar obiektu w bajtach\n",
    "* modules: zwraca słownik zawierający moduły dostępne w środowisku\n",
    "* exit: zamyka interpretator\n",
    "\n",
    "* stdin, stdout, stderr: przekierowywanie strumieni danych (**lepiej moduł *logging***)"
   ]
  },
  {
   "cell_type": "code",
   "execution_count": 9,
   "id": "9dabf5ad",
   "metadata": {},
   "outputs": [
    {
     "name": "stdout",
     "output_type": "stream",
     "text": [
      "win32 3.11.4 | packaged by Anaconda, Inc. | (main, Jul  5 2023, 13:38:37) [MSC v.1916 64 bit (AMD64)]\n"
     ]
    }
   ],
   "source": [
    "import sys\n",
    "\n",
    "print(sys.platform, sys.version)"
   ]
  },
  {
   "cell_type": "markdown",
   "id": "eeaed76b",
   "metadata": {},
   "source": [
    "## DATETIME\n",
    "Manipulowanie czasem i datami.."
   ]
  },
  {
   "cell_type": "code",
   "execution_count": 10,
   "id": "f6a4d915",
   "metadata": {},
   "outputs": [
    {
     "name": "stdout",
     "output_type": "stream",
     "text": [
      "2024-12-12\n",
      "True\n",
      "2025-08-22\n",
      "Bday in 253 days.\n"
     ]
    }
   ],
   "source": [
    "import time\n",
    "from datetime import date\n",
    "\n",
    "today = date.today()\n",
    "print(today)\n",
    "\n",
    "print(today == date.fromtimestamp(time.time())) # przypomnienie: time.time() czas od początku pierwszej epoki\n",
    "\n",
    "my_birthday = date(today.year, 8, 22)\n",
    "\n",
    "if my_birthday < today:\n",
    "    my_birthday = my_birthday.replace(year=today.year + 1)\n",
    "\n",
    "print(my_birthday)\n",
    "\n",
    "time_to_birthday = abs(my_birthday - today)\n",
    "\n",
    "print(f\"Bday in {time_to_birthday.days} days.\")"
   ]
  },
  {
   "cell_type": "code",
   "execution_count": 11,
   "id": "aef82be5",
   "metadata": {},
   "outputs": [
    {
     "name": "stdout",
     "output_type": "stream",
     "text": [
      "Thu Dec 12 22:34:31 2024\n"
     ]
    }
   ],
   "source": [
    "with open(\"pamietniczek.txt\", \"a\") as fp: # a: append, dodawanie na koniec\n",
    "    \n",
    "    fp.write(str(date.today()))\n",
    "    fp.write(\"zjadlem bulke\")\n",
    "    \n",
    "last_modified_time = os.path.getmtime(\"pamietniczek.txt\")\n",
    "\n",
    "print(time.ctime(last_modified_time)) # czy ktos cytal.."
   ]
  },
  {
   "cell_type": "markdown",
   "id": "f3117642",
   "metadata": {},
   "source": [
    "## TF-IDF\n",
    "**TF-IDF** (ang. Term Frequency-Inverse Document Frequency) to metoda wektorowej reprezentacji tekstu, w której częstość wystąpienia danego słowa w dokumencie ważona jest przez częstość jego występowania w zbiorze dokumentów.\n",
    "\n",
    "**TF** obliczyć bardzo prosto, zliczamy wystąpienai słowa \"x\" w dokumencie (np. *file_txt.count(\"x\")*) a następnie dzielimy przez liczbę wszystkich jego słów (np. *len(file_txt.split())*).\n",
    "\n",
    "Człon **IDF** jest logarytmem z ilorazu liczby dokumentów i liczby dokumentów z słowem \"x\", aby uniknąć dzielenia przez zero możemy to wyrazić jako:\n",
    "\n",
    "   **idf = 1.0 + math.log((1 + liczba dokumentów) / (1 + liczba dokumentów z słowem \"x\"))**\n",
    "\n",
    "   **tf-idf = tf * idf**\n",
    "<br>\n",
    "<br>\n",
    "**Podobieństwo cosinusowe** pomiędzy wektorami A i B obliczamy jako iloczyn skalarny A i B podzielony przez iloczyn norm A i B.\\\n",
    "<br>\n",
    "Iloczyn skalarny A = [a1, a2, ...], B = [b1, b2, ...] to suma iloczynów [a1\\*b1, a2\\*b2, ...]...\n",
    "<br>\n",
    "Norma to pierwiastek z sumy kwadratów, dla A = math.sqrt(sum([a**2 for a in A])...\n",
    "<br>\n",
    "<br>"
   ]
  },
  {
   "cell_type": "markdown",
   "id": "78f8aa38",
   "metadata": {},
   "source": [
    "**Zadanie 1.** Oblicz TF-IDF dla korpusu zawierającego poniższe zdania / dokumenty:\n",
    "\n",
    "f1 = \"Język programowania python jest super\"\n",
    "f2 = \"Język programowania javascript odraża mnie\"\n",
    "<br>\n",
    "<br>"
   ]
  },
  {
   "cell_type": "markdown",
   "id": "59f3de7e",
   "metadata": {},
   "source": [
    "**Zadanie 2.** Oblicz podobieństwo cosinusowe pomiędzy reprezentacjami f1 i f2.\n",
    "<br>\n",
    "<br>"
   ]
  },
  {
   "cell_type": "markdown",
   "id": "d6f7c7f7",
   "metadata": {},
   "source": [
    "**Zadanie 3.**\n",
    "\n",
    "\\**Twój pulpit jest zawalony publikacjami, pora coś z tym zrobić..\\** \n",
    "\n",
    "\\**daje zadanie studentom\\**\n",
    "\n",
    "<br>\n",
    "\n",
    "Napisz klasę *TFIDF*, powinna przyjmować ścieżkę do folderu, w którym znajdują się publikacje (o rozszerzeniu *.pdf*). Należy wczytać ich tytuły i obliczyć dla nich tf-idf. Metoda *create_vector* powinna zwracać listę reprezentacji wektorowych tytułów publikacji, czyli listę list."
   ]
  },
  {
   "cell_type": "code",
   "execution_count": null,
   "id": "348481cb",
   "metadata": {},
   "outputs": [],
   "source": [
    "class TFIDF:\n",
    "    def __init__(self, path_to_pubs):\n",
    "        \n",
    "        self.data = ... # lista list słów z tytułów publikacji\n",
    "        self.vocab = set() # zbiór unikalnych słów występujących w korpusie\n",
    "        self.word_to_index = {} # słownik przypisujący unikalny indeks każdemu słowu z korpusu (zbioru publikacji)\n",
    "        self.idfs_ = {} # słownik zawierający idf każdego unikalnego słowa\n",
    "    \n",
    "    def _build_vocab(self):\n",
    "        \"\"\"\n",
    "        Funkcja do zbudowania self.vocab\n",
    "        \"\"\"\n",
    "    \n",
    "    def _build_index(self):\n",
    "        \"\"\"\n",
    "        Funkcja do zbudowania indeksu unikalnych słów z self.vocab\n",
    "        \"\"\"\n",
    "\n",
    "        \n",
    "    def _calculate_idfs(self):\n",
    "        \"\"\"\n",
    "        Funkcja do obliczenia idf dla unikalnych słów z self.vocab\n",
    "        \"\"\"\n",
    "        \n",
    "        \n",
    "    def _tfidf(self, input_sent):\n",
    "        \"\"\"\n",
    "        Funkcja obliczająca tf-idf dla każdego tytułu publikacji, przyjmuje listę słów input_sent, zwraca listę float\n",
    "        \"\"\"\n",
    "\n",
    "    def create_vectors(self):\n",
    "        \n",
    "        self._build_vocab()\n",
    "        self._build_index()\n",
    "        self._calculate_idfs()\n",
    "        vectors = []\n",
    "        \n",
    "        for sent in self.data:\n",
    "            sent_vector = self._tfidf(sent)\n",
    "            vectors.append(sent_vector)\n",
    "\n",
    "        return vectors"
   ]
  }
 ],
 "metadata": {
  "kernelspec": {
   "display_name": "Python 3 (ipykernel)",
   "language": "python",
   "name": "python3"
  },
  "language_info": {
   "codemirror_mode": {
    "name": "ipython",
    "version": 3
   },
   "file_extension": ".py",
   "mimetype": "text/x-python",
   "name": "python",
   "nbconvert_exporter": "python",
   "pygments_lexer": "ipython3",
   "version": "3.11.4"
  }
 },
 "nbformat": 4,
 "nbformat_minor": 5
}
