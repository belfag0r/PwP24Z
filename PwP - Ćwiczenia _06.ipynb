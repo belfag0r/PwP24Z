{
 "cells": [
  {
   "cell_type": "markdown",
   "id": "833d6545",
   "metadata": {},
   "source": [
    "# Wyrażenia regularne"
   ]
  },
  {
   "cell_type": "markdown",
   "id": "7eb93f71",
   "metadata": {},
   "source": [
    "Zapoznamy się z re - modułem biblioteki standardowej.\n",
    "\n",
    "<br>\n",
    "\n",
    "\n",
    "A w szczególności z funkcjami:\n",
    "\n",
    "*  search i findall\n",
    "\n",
    "\n",
    "<br>\n",
    "\n",
    "oraz podstawowymi konstrukcjami syntaktycznymi wyrażeń regularnych."
   ]
  },
  {
   "cell_type": "markdown",
   "id": "47211293",
   "metadata": {},
   "source": [
    "Wyrażenia regularne (regex) związane są z teorią języków formalnych, a dokładnej języków regularnych, o których można również myśleć jako automatach skończonych (są to abstrakcyjne maszyny przyjmująca pewne wyrazy wtedy, gdy sekwencja symboli wejściowych wywołuje zmiany stanu kończące się w stanie akceptującym).\n",
    "\n",
    "Powszechnie stosuje się je do wyszukiwania wzorców w danych tekstowych.\n",
    "\n",
    "https://docs.python.org/3/library/re.html"
   ]
  },
  {
   "cell_type": "markdown",
   "id": "2d1d71e6",
   "metadata": {},
   "source": [
    "### Znaki specjalne\n",
    "\n",
    "|||\n",
    "|--|:--|\n",
    "|.|dowolny znak, oprócz \\n|\n",
    "|?|zero lub jedno wystąpienie znaku|\n",
    "|\\*|zero lub więcej wystąpień znaku|\n",
    "|+|jeden lub więcej wystąpień znaku|\n",
    "|^|początek ciągu tekstowego|\n",
    "|$|koniec ciągu tekstowego|\n",
    "|[]|dowolny znak z listy|\n",
    "|[^]|żaden z listy|\n",
    "|{}|liczba wystąpień lub {od, do} itd.|\n",
    "|A\\|B| A lub B, mogące być odrębnymi wyrażeniami|"
   ]
  },
  {
   "cell_type": "markdown",
   "id": "dfb912e5",
   "metadata": {},
   "source": [
    "### Klasy znaków\n",
    "\n",
    "|||\n",
    "|--|:--|\n",
    "|\\d|dowolna cyfra od 0 do 9|\n",
    "|\\D|wszystko z wyjątkiem cyfr [^d]|\n",
    "|\\s|spacja|\n",
    "|\\S|wszystko co nie jest spacją|\n",
    "|\\w|a-z, A-Z, cyfry, podkreślenie \\_|\n",
    "|\\W|znaki nie \\w|\n",
    "|\\b|granica pomiędzy \\w i \\W|"
   ]
  },
  {
   "cell_type": "markdown",
   "id": "4cb32453",
   "metadata": {},
   "source": [
    "### Grupowanie\n",
    "\n",
    "|||\n",
    "|--|:--|\n",
    "|()|dopasowywuje cały wzorzec, ale wyodrębnia to co w nawiasie|\n",
    "|(?P\\<key>)|przypisuje nazwę \\<key> grupie zadanego wzorca|"
   ]
  },
  {
   "cell_type": "markdown",
   "id": "02ecc0c0",
   "metadata": {},
   "source": [
    "Kompletniejsze zestawienie znaków oraz ich różnych funkcji można znaleźć w poniższym dokumencie:\n",
    "\n",
    "https://www.dataquest.io/wp-content/uploads/2019/03/python-regular-expressions-cheat-sheet.pdf"
   ]
  },
  {
   "cell_type": "code",
   "execution_count": 1,
   "id": "59909c70",
   "metadata": {},
   "outputs": [
    {
     "name": "stdout",
     "output_type": "stream",
     "text": [
      "1 2\n"
     ]
    }
   ],
   "source": [
    "# raw string (r) traktuje \\ jako normalny znak\n",
    "print(len(\"\\n\"), len(r\"\\n\"))"
   ]
  },
  {
   "cell_type": "markdown",
   "id": "e9307bb6",
   "metadata": {},
   "source": [
    "* re.match: dopasowuje wyrażenie do początku tekstu i zwraca obiekt match lub None\n",
    "\n",
    "* re.search: skanuje text i dopasowuje wyrażenie w pierwszym możliwym miejscu\n",
    "\n",
    "* re.findall: zwraca listę krotek z wszystkimi nienachodzącymi dopasowaniami"
   ]
  },
  {
   "cell_type": "code",
   "execution_count": 2,
   "id": "1a7388be",
   "metadata": {},
   "outputs": [
    {
     "name": "stdout",
     "output_type": "stream",
     "text": [
      "Kod: 30-123\n",
      "Miasto: Kraków\n",
      "(0, 13)\n"
     ]
    }
   ],
   "source": [
    "import re\n",
    "\n",
    "text = '30-123 Kraków'\n",
    "expr = '([0-9]{2}\\-[0-9]{3})\\ ([^\\ ]+)$'\n",
    "\n",
    "match = re.search(expr, text)\n",
    "\n",
    "if match is None:\n",
    "    raise Exception('Niepoprawny format')\n",
    "    \n",
    "else:\n",
    "    \n",
    "    # match.groups() zwraca krotkę z wyodrębnionymi z dopasowania grupami\n",
    "    zcode, city = match.groups()\n",
    "    print(f'Kod: {zcode}\\nMiasto: {city}')\n",
    "    \n",
    "    #match.span() zwraca krotkę z pozycją dopasowanego ciągu znaków\n",
    "    print(match.span())"
   ]
  },
  {
   "cell_type": "markdown",
   "id": "7c684acd",
   "metadata": {},
   "source": [
    "### Dopasowywanie zachłanne i niezachłanne"
   ]
  },
  {
   "cell_type": "code",
   "execution_count": 3,
   "id": "8e9e49a2",
   "metadata": {},
   "outputs": [
    {
     "name": "stdout",
     "output_type": "stream",
     "text": [
      "<re.Match object; span=(0, 10), match='HaHaHaHaHa'>\n",
      "<re.Match object; span=(0, 2), match='Ha'>\n"
     ]
    }
   ],
   "source": [
    "txt='HaHaHaHaHaHaHa'\n",
    "\n",
    "greedy_regex=re.compile('(Ha){1,5}')\n",
    "result1=greedy_regex.search(txt)\n",
    "\n",
    "# zwykle ? jest zachłanne, ale tutaj występuje jako modyfikator kwantyfikatora - {m, n}? ignoruje n\n",
    "nongreedy_regex=re.compile('(Ha){1,5}?')\n",
    "result2=nongreedy_regex.search(txt)\n",
    "\n",
    "print(result1)\n",
    "print(result2)"
   ]
  },
  {
   "cell_type": "markdown",
   "id": "15ce9e48",
   "metadata": {},
   "source": [
    "### re.findall"
   ]
  },
  {
   "cell_type": "code",
   "execution_count": 4,
   "id": "3955dad0",
   "metadata": {},
   "outputs": [
    {
     "name": "stdout",
     "output_type": "stream",
     "text": [
      "[('42-022', 'Pcim'), ('81-426', 'Gdynia'), ('30-654', 'Kraków')]\n"
     ]
    }
   ],
   "source": [
    "text = '''\n",
    "ul. Polna 166/10 42-022 Pcim\n",
    "Uniwersytecka 198/34 81-426 Gdynia\n",
    "Jagiellońska 126/48 30-654 Kraków\n",
    "'''\n",
    "expr = '\\ ([0-9]{2}\\-[0-9]{3})\\ (.+)\\n'\n",
    "\n",
    "matches = re.findall(expr, text)\n",
    "print(matches)"
   ]
  },
  {
   "cell_type": "markdown",
   "id": "97026fc5",
   "metadata": {},
   "source": [
    "### Nadwanie nazw grupom"
   ]
  },
  {
   "cell_type": "code",
   "execution_count": 5,
   "id": "64839663",
   "metadata": {},
   "outputs": [
    {
     "name": "stdout",
     "output_type": "stream",
     "text": [
      "{'zcode': '42-022', 'city': 'Pcim'}\n"
     ]
    }
   ],
   "source": [
    "expr = '\\ (?P<zcode>[0-9]{2}\\-' + '[0-9]{3})\\ (?P<city>.+)\\n'\n",
    "\n",
    "match = re.search(expr, text)\n",
    "gdict = match.groupdict()\n",
    "\n",
    "\n",
    "print(gdict)"
   ]
  },
  {
   "cell_type": "markdown",
   "id": "7889c926",
   "metadata": {},
   "source": [
    "### Negative / Positive look[behind|ahead] assertion\n",
    "\n",
    "* A(?=B) | Dopasuje A tylko gdy następuje po nim wyrażenie B\n",
    "* A(?!B) | Negative lookahead assertion. Dopasuje A tylko gdy nie ma po nim B\n",
    "* (?<=B)A | Positive lookbehind assertion. Dopasuje A tylko gdy B jest bezpośrednio po lewej (tylko z maksymalną długością)\n",
    "* (?<!B)A | Negative lookbehind assertion. Dopasuje A tylko gdy B NIE jest bezpośrednio po lewej (tylko z maksymalną długością)"
   ]
  },
  {
   "cell_type": "markdown",
   "id": "a2c02b76",
   "metadata": {},
   "source": [
    "**Zadanie 1.** Enzym restrykcyjny DsaI rozpoznaje sekwencje CCGCGG, CCGTGG, CCACGG, oraz CCATGG. Napisz wyrażenie regularne umożliwiajace sprawdzenie czy dana sekwencja zawiera jego miejsce cięcia. Rozwiązanie nie powinno zawierać 4 całych sekwencji."
   ]
  },
  {
   "cell_type": "markdown",
   "id": "d1e9617a",
   "metadata": {},
   "source": [
    "**Zadanie 2.** Napisz program, który dla podanej sekwencji DNA odnajdzie w niej wszystkie otwarte ramki odycztu, a następnie wypisze ich przetłumaczoną zawartość. ORF (*ang. Open reading Frame*) to sekwencja znajdująca się pomiędzy kodonem START i STOP.\n",
    "Zastosuj wyrażenia regularne. Należy przyjać standardowy kod genetyczny (np. z ćw. 3).\n",
    "\n",
    "*W pełnym rozwiązaniu należy przeszukać łącznie 6 ramek odczytu:\n",
    "\n",
    "* 3 możliwe pozycje przesunięcia startu rybosomu ([0:3], [1:4], [2:5])\n",
    "* obie nici DNA mogą ulec transkrypcji: *dna_seq* (tylko w RNA T --> U) i sekwencja komplementarna do *dna_seq* o odwróconej kolejności nukleotydów (reverse complement)"
   ]
  },
  {
   "cell_type": "code",
   "execution_count": 6,
   "id": "234d7669",
   "metadata": {},
   "outputs": [],
   "source": [
    "dna_seq = \"AGCCATGTAGCTAACTCAGGTTACATGGGGATGACCCCGCGACTTGGATTAGAGTCTCTTTTGGAATAAGCCTGAATGATCCGAGTAGCATCTCAG\""
   ]
  },
  {
   "cell_type": "markdown",
   "id": "c02f48c9",
   "metadata": {},
   "source": [
    "Oczekiwane wyniki:\n",
    " * MLLGSFRLIPKETLIQVAGSSPCNLS\n",
    " * M\n",
    " * MGMTPRLGLESLLE\n",
    " * MTPRLGLESLLE\n",
    " \n",
    "https://github.com/urmi-21/orfipy"
   ]
  },
  {
   "cell_type": "markdown",
   "id": "c45602ed",
   "metadata": {},
   "source": [
    "**Zadanie 3.** Zapisz wyrażenia regularne odnajdujące w poniższym tekście:\n",
    "* wszystkie słowa zaczynające się na literę 'm'\n",
    "* wszystkie wyrazy poprzedzające 'and' (włącznie z 'and')\n",
    "* wszystkie wyrazy mające 7 znaków niezaczynające się na literę 'f'\n",
    "* wszystkie słowa kończące się na 'ing' o długości <= 7"
   ]
  },
  {
   "cell_type": "code",
   "execution_count": 7,
   "id": "73ec5713",
   "metadata": {},
   "outputs": [],
   "source": [
    "txt = \"\"\"Would to heaven that the reader, emboldened and momentarily ferocious as he reads,\n",
    "finds his wild and savage path through the desolate marshes of these dark and poisonous pages, \n",
    "without disorientation; for, unless he brings in his reading a rigorous logic and a tension of mind \n",
    "equal at least to his distrust, the mortal emanations of this book will soak his soul, as water sugar. \n",
    "It is not good for everybody to read the pages that follow; some alone will savor this bitter fruit without danger. \n",
    "Therefore, timid soul, before penetrating farther into such unexplored heaths, directs your heels back and not forward. \n",
    "Listen well to what I say to you: run your heels back and not forward, like the eyes of a son who, \n",
    "deviates respectfully from the august contemplation of the maternal side; \n",
    "or, rather, as an endless angle of chilly cranes of great meditation, which, during the winter, \n",
    "flies powerfully through the silence, with all sails stretched, towards a fixed point of the horizon, \n",
    "whence suddenly leaves a strange and strong wind, precursor of the storm. \n",
    "\"\"\".replace('\\n', ' ')"
   ]
  }
 ],
 "metadata": {
  "kernelspec": {
   "display_name": "Python 3 (ipykernel)",
   "language": "python",
   "name": "python3"
  },
  "language_info": {
   "codemirror_mode": {
    "name": "ipython",
    "version": 3
   },
   "file_extension": ".py",
   "mimetype": "text/x-python",
   "name": "python",
   "nbconvert_exporter": "python",
   "pygments_lexer": "ipython3",
   "version": "3.11.4"
  }
 },
 "nbformat": 4,
 "nbformat_minor": 5
}
